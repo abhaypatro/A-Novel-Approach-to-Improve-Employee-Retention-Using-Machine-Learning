{
  "nbformat": 4,
  "nbformat_minor": 0,
  "metadata": {
    "colab": {
      "name": "prediction.ipynb",
      "provenance": []
    },
    "kernelspec": {
      "name": "python3",
      "display_name": "Python 3"
    },
    "language_info": {
      "name": "python"
    }
  },
  "cells": [
    {
      "cell_type": "code",
      "metadata": {
        "colab": {
          "base_uri": "https://localhost:8080/"
        },
        "id": "xTPTxTZh0BHV",
        "outputId": "68202930-4f0a-4f67-aba0-fdf2d2a17c17"
      },
      "source": [
        "pip install h2o"
      ],
      "execution_count": 1,
      "outputs": [
        {
          "output_type": "stream",
          "text": [
            "Collecting h2o\n",
            "\u001b[?25l  Downloading https://files.pythonhosted.org/packages/32/86/b64475aa453185c594c861c1937bad77dfef2ce1295b850c46e295ae4f18/h2o-3.32.0.5.tar.gz (164.6MB)\n",
            "\u001b[K     |████████████████████████████████| 164.6MB 98kB/s \n",
            "\u001b[?25hRequirement already satisfied: requests in /usr/local/lib/python3.7/dist-packages (from h2o) (2.23.0)\n",
            "Requirement already satisfied: tabulate in /usr/local/lib/python3.7/dist-packages (from h2o) (0.8.9)\n",
            "Requirement already satisfied: future in /usr/local/lib/python3.7/dist-packages (from h2o) (0.16.0)\n",
            "Collecting colorama>=0.3.8\n",
            "  Downloading https://files.pythonhosted.org/packages/44/98/5b86278fbbf250d239ae0ecb724f8572af1c91f4a11edf4d36a206189440/colorama-0.4.4-py2.py3-none-any.whl\n",
            "Requirement already satisfied: idna<3,>=2.5 in /usr/local/lib/python3.7/dist-packages (from requests->h2o) (2.10)\n",
            "Requirement already satisfied: chardet<4,>=3.0.2 in /usr/local/lib/python3.7/dist-packages (from requests->h2o) (3.0.4)\n",
            "Requirement already satisfied: certifi>=2017.4.17 in /usr/local/lib/python3.7/dist-packages (from requests->h2o) (2020.12.5)\n",
            "Requirement already satisfied: urllib3!=1.25.0,!=1.25.1,<1.26,>=1.21.1 in /usr/local/lib/python3.7/dist-packages (from requests->h2o) (1.24.3)\n",
            "Building wheels for collected packages: h2o\n",
            "  Building wheel for h2o (setup.py) ... \u001b[?25l\u001b[?25hdone\n",
            "  Created wheel for h2o: filename=h2o-3.32.0.5-py2.py3-none-any.whl size=164673888 sha256=004bcda3bc844bdf325b33764dddfcf44d8c3f1e1d25db2c59351a63e6a31ff9\n",
            "  Stored in directory: /root/.cache/pip/wheels/f7/54/f6/f88d58b676e135bbab981238fcf77f27161ec02b7cc893d8c7\n",
            "Successfully built h2o\n",
            "Installing collected packages: colorama, h2o\n",
            "Successfully installed colorama-0.4.4 h2o-3.32.0.5\n"
          ],
          "name": "stdout"
        }
      ]
    },
    {
      "cell_type": "code",
      "metadata": {
        "id": "3Rfl1tbP0TYe"
      },
      "source": [
        "import numpy as np\n",
        "import pandas as pd"
      ],
      "execution_count": 2,
      "outputs": []
    },
    {
      "cell_type": "code",
      "metadata": {
        "colab": {
          "base_uri": "https://localhost:8080/",
          "height": 526
        },
        "id": "esh4jji31xSH",
        "outputId": "dbba8e7d-3fe8-4957-daea-c75bb32d51ab"
      },
      "source": [
        "import h2o\n",
        "from h2o.automl import H2OAutoML\n",
        "h2o.init()"
      ],
      "execution_count": 5,
      "outputs": [
        {
          "output_type": "stream",
          "text": [
            "Checking whether there is an H2O instance running at http://localhost:54321 ..... not found.\n",
            "Attempting to start a local H2O server...\n",
            "  Java Version: openjdk version \"11.0.10\" 2021-01-19; OpenJDK Runtime Environment (build 11.0.10+9-Ubuntu-0ubuntu1.18.04); OpenJDK 64-Bit Server VM (build 11.0.10+9-Ubuntu-0ubuntu1.18.04, mixed mode, sharing)\n",
            "  Starting server from /usr/local/lib/python3.7/dist-packages/h2o/backend/bin/h2o.jar\n",
            "  Ice root: /tmp/tmpr37t_hbs\n",
            "  JVM stdout: /tmp/tmpr37t_hbs/h2o_unknownUser_started_from_python.out\n",
            "  JVM stderr: /tmp/tmpr37t_hbs/h2o_unknownUser_started_from_python.err\n",
            "  Server is running at http://127.0.0.1:54321\n",
            "Connecting to H2O server at http://127.0.0.1:54321 ... successful.\n"
          ],
          "name": "stdout"
        },
        {
          "output_type": "display_data",
          "data": {
            "text/html": [
              "<div style=\"overflow:auto\"><table style=\"width:50%\"><tr><td>H2O_cluster_uptime:</td>\n",
              "<td>03 secs</td></tr>\n",
              "<tr><td>H2O_cluster_timezone:</td>\n",
              "<td>Etc/UTC</td></tr>\n",
              "<tr><td>H2O_data_parsing_timezone:</td>\n",
              "<td>UTC</td></tr>\n",
              "<tr><td>H2O_cluster_version:</td>\n",
              "<td>3.32.0.5</td></tr>\n",
              "<tr><td>H2O_cluster_version_age:</td>\n",
              "<td>3 days </td></tr>\n",
              "<tr><td>H2O_cluster_name:</td>\n",
              "<td>H2O_from_python_unknownUser_36c2u3</td></tr>\n",
              "<tr><td>H2O_cluster_total_nodes:</td>\n",
              "<td>1</td></tr>\n",
              "<tr><td>H2O_cluster_free_memory:</td>\n",
              "<td>3.180 Gb</td></tr>\n",
              "<tr><td>H2O_cluster_total_cores:</td>\n",
              "<td>2</td></tr>\n",
              "<tr><td>H2O_cluster_allowed_cores:</td>\n",
              "<td>2</td></tr>\n",
              "<tr><td>H2O_cluster_status:</td>\n",
              "<td>accepting new members, healthy</td></tr>\n",
              "<tr><td>H2O_connection_url:</td>\n",
              "<td>http://127.0.0.1:54321</td></tr>\n",
              "<tr><td>H2O_connection_proxy:</td>\n",
              "<td>{\"http\": null, \"https\": null}</td></tr>\n",
              "<tr><td>H2O_internal_security:</td>\n",
              "<td>False</td></tr>\n",
              "<tr><td>H2O_API_Extensions:</td>\n",
              "<td>Amazon S3, XGBoost, Algos, AutoML, Core V3, TargetEncoder, Core V4</td></tr>\n",
              "<tr><td>Python_version:</td>\n",
              "<td>3.7.10 final</td></tr></table></div>"
            ],
            "text/plain": [
              "--------------------------  ------------------------------------------------------------------\n",
              "H2O_cluster_uptime:         03 secs\n",
              "H2O_cluster_timezone:       Etc/UTC\n",
              "H2O_data_parsing_timezone:  UTC\n",
              "H2O_cluster_version:        3.32.0.5\n",
              "H2O_cluster_version_age:    3 days\n",
              "H2O_cluster_name:           H2O_from_python_unknownUser_36c2u3\n",
              "H2O_cluster_total_nodes:    1\n",
              "H2O_cluster_free_memory:    3.180 Gb\n",
              "H2O_cluster_total_cores:    2\n",
              "H2O_cluster_allowed_cores:  2\n",
              "H2O_cluster_status:         accepting new members, healthy\n",
              "H2O_connection_url:         http://127.0.0.1:54321\n",
              "H2O_connection_proxy:       {\"http\": null, \"https\": null}\n",
              "H2O_internal_security:      False\n",
              "H2O_API_Extensions:         Amazon S3, XGBoost, Algos, AutoML, Core V3, TargetEncoder, Core V4\n",
              "Python_version:             3.7.10 final\n",
              "--------------------------  ------------------------------------------------------------------"
            ]
          },
          "metadata": {
            "tags": []
          }
        }
      ]
    },
    {
      "cell_type": "code",
      "metadata": {
        "id": "J2OjlF6j0VRp"
      },
      "source": [
        "model = h2o.load_model(\"/content/StackedEnsemble_AllModels_AutoML\")"
      ],
      "execution_count": 6,
      "outputs": []
    },
    {
      "cell_type": "code",
      "metadata": {
        "colab": {
          "base_uri": "https://localhost:8080/"
        },
        "id": "B1MLh_5X1m_t",
        "outputId": "8d21e61c-a5e5-4679-f785-3683f8aeed2e"
      },
      "source": [
        "test = h2o.import_file(\"test.csv\")"
      ],
      "execution_count": 7,
      "outputs": [
        {
          "output_type": "stream",
          "text": [
            "Parse progress: |█████████████████████████████████████████████████████████| 100%\n"
          ],
          "name": "stdout"
        }
      ]
    },
    {
      "cell_type": "code",
      "metadata": {
        "colab": {
          "base_uri": "https://localhost:8080/",
          "height": 292
        },
        "id": "7JI8xTa22aO-",
        "outputId": "3860091c-cd4f-4854-970e-b2d3482c8f22"
      },
      "source": [
        "test"
      ],
      "execution_count": 8,
      "outputs": [
        {
          "output_type": "display_data",
          "data": {
            "text/html": [
              "<table>\n",
              "<thead>\n",
              "<tr><th style=\"text-align: right;\">  Age</th><th style=\"text-align: right;\">  Attrition</th><th style=\"text-align: right;\">  BusinessTravel</th><th style=\"text-align: right;\">  DistanceFromHome</th><th style=\"text-align: right;\">  Education</th><th style=\"text-align: right;\">  EnvironmentSatisfaction</th><th style=\"text-align: right;\">  Gender</th><th style=\"text-align: right;\">  JobInvolvement</th><th style=\"text-align: right;\">  JobLevel</th><th style=\"text-align: right;\">  JobSatisfaction</th><th style=\"text-align: right;\">  MaritalStatus</th><th style=\"text-align: right;\">  MonthlyIncome</th><th style=\"text-align: right;\">  NumCompaniesWorked</th><th style=\"text-align: right;\">  OverTime</th><th style=\"text-align: right;\">  PercentSalaryHike</th><th style=\"text-align: right;\">  PerformanceRating</th><th style=\"text-align: right;\">  RelationshipSatisfaction</th><th style=\"text-align: right;\">  StockOptionLevel</th><th style=\"text-align: right;\">  TotalWorkingYears</th><th style=\"text-align: right;\">  TrainingTimesLastYear</th><th style=\"text-align: right;\">  WorkLifeBalance</th><th style=\"text-align: right;\">  YearsAtCompany</th><th style=\"text-align: right;\">  YearsInCurrentRole</th><th style=\"text-align: right;\">  YearsSinceLastPromotion</th><th style=\"text-align: right;\">  YearsWithCurrManager</th><th style=\"text-align: right;\">  Dept-Human Resouces</th><th style=\"text-align: right;\">  Dept-Research &amp; Development</th><th style=\"text-align: right;\">  Dept-Sales</th><th style=\"text-align: right;\">  EducationField-Human Resources</th><th style=\"text-align: right;\">  EducationField-Life Sciences</th><th style=\"text-align: right;\">  EducationField-Marketing</th><th style=\"text-align: right;\">  EducationField-Medical</th><th style=\"text-align: right;\">  EducationField-Other</th><th style=\"text-align: right;\">  EducationField-Technical Degree</th><th style=\"text-align: right;\">  Healthcare Representative</th><th style=\"text-align: right;\">  Human Resources</th><th style=\"text-align: right;\">  Laboratory Technician</th><th style=\"text-align: right;\">  Manager</th><th style=\"text-align: right;\">  Manufacturing Director</th><th style=\"text-align: right;\">  Research Director</th><th style=\"text-align: right;\">  Research Scientist</th><th style=\"text-align: right;\">  Sales Executive</th><th style=\"text-align: right;\">  Sales Representative</th></tr>\n",
              "</thead>\n",
              "<tbody>\n",
              "<tr><td style=\"text-align: right;\">   36</td><td style=\"text-align: right;\">          0</td><td style=\"text-align: right;\">               1</td><td style=\"text-align: right;\">                10</td><td style=\"text-align: right;\">          4</td><td style=\"text-align: right;\">                        2</td><td style=\"text-align: right;\">       1</td><td style=\"text-align: right;\">               3</td><td style=\"text-align: right;\">         3</td><td style=\"text-align: right;\">                4</td><td style=\"text-align: right;\">              1</td><td style=\"text-align: right;\">           9980</td><td style=\"text-align: right;\">                   1</td><td style=\"text-align: right;\">         0</td><td style=\"text-align: right;\">                 14</td><td style=\"text-align: right;\">                  3</td><td style=\"text-align: right;\">                         4</td><td style=\"text-align: right;\">                 0</td><td style=\"text-align: right;\">                 10</td><td style=\"text-align: right;\">                      3</td><td style=\"text-align: right;\">                2</td><td style=\"text-align: right;\">              10</td><td style=\"text-align: right;\">                   3</td><td style=\"text-align: right;\">                        9</td><td style=\"text-align: right;\">                     7</td><td style=\"text-align: right;\">                    0</td><td style=\"text-align: right;\">                            0</td><td style=\"text-align: right;\">           1</td><td style=\"text-align: right;\">                               0</td><td style=\"text-align: right;\">                             0</td><td style=\"text-align: right;\">                         0</td><td style=\"text-align: right;\">                       1</td><td style=\"text-align: right;\">                     0</td><td style=\"text-align: right;\">                                0</td><td style=\"text-align: right;\">                          0</td><td style=\"text-align: right;\">                0</td><td style=\"text-align: right;\">                      0</td><td style=\"text-align: right;\">        0</td><td style=\"text-align: right;\">                       0</td><td style=\"text-align: right;\">                  0</td><td style=\"text-align: right;\">                   0</td><td style=\"text-align: right;\">                1</td><td style=\"text-align: right;\">                     0</td></tr>\n",
              "<tr><td style=\"text-align: right;\">   33</td><td style=\"text-align: right;\">          0</td><td style=\"text-align: right;\">               2</td><td style=\"text-align: right;\">                25</td><td style=\"text-align: right;\">          3</td><td style=\"text-align: right;\">                        4</td><td style=\"text-align: right;\">       1</td><td style=\"text-align: right;\">               2</td><td style=\"text-align: right;\">         2</td><td style=\"text-align: right;\">                2</td><td style=\"text-align: right;\">              1</td><td style=\"text-align: right;\">           4320</td><td style=\"text-align: right;\">                   1</td><td style=\"text-align: right;\">         0</td><td style=\"text-align: right;\">                 13</td><td style=\"text-align: right;\">                  3</td><td style=\"text-align: right;\">                         4</td><td style=\"text-align: right;\">                 0</td><td style=\"text-align: right;\">                  5</td><td style=\"text-align: right;\">                      2</td><td style=\"text-align: right;\">                3</td><td style=\"text-align: right;\">               5</td><td style=\"text-align: right;\">                   3</td><td style=\"text-align: right;\">                        0</td><td style=\"text-align: right;\">                     2</td><td style=\"text-align: right;\">                    0</td><td style=\"text-align: right;\">                            1</td><td style=\"text-align: right;\">           0</td><td style=\"text-align: right;\">                               0</td><td style=\"text-align: right;\">                             1</td><td style=\"text-align: right;\">                         0</td><td style=\"text-align: right;\">                       0</td><td style=\"text-align: right;\">                     0</td><td style=\"text-align: right;\">                                0</td><td style=\"text-align: right;\">                          0</td><td style=\"text-align: right;\">                0</td><td style=\"text-align: right;\">                      0</td><td style=\"text-align: right;\">        0</td><td style=\"text-align: right;\">                       1</td><td style=\"text-align: right;\">                  0</td><td style=\"text-align: right;\">                   0</td><td style=\"text-align: right;\">                0</td><td style=\"text-align: right;\">                     0</td></tr>\n",
              "<tr><td style=\"text-align: right;\">   35</td><td style=\"text-align: right;\">          1</td><td style=\"text-align: right;\">               3</td><td style=\"text-align: right;\">                18</td><td style=\"text-align: right;\">          4</td><td style=\"text-align: right;\">                        4</td><td style=\"text-align: right;\">       0</td><td style=\"text-align: right;\">               3</td><td style=\"text-align: right;\">         2</td><td style=\"text-align: right;\">                3</td><td style=\"text-align: right;\">              3</td><td style=\"text-align: right;\">           4614</td><td style=\"text-align: right;\">                   0</td><td style=\"text-align: right;\">         1</td><td style=\"text-align: right;\">                 18</td><td style=\"text-align: right;\">                  3</td><td style=\"text-align: right;\">                         3</td><td style=\"text-align: right;\">                 1</td><td style=\"text-align: right;\">                  5</td><td style=\"text-align: right;\">                      0</td><td style=\"text-align: right;\">                2</td><td style=\"text-align: right;\">               4</td><td style=\"text-align: right;\">                   2</td><td style=\"text-align: right;\">                        3</td><td style=\"text-align: right;\">                     2</td><td style=\"text-align: right;\">                    0</td><td style=\"text-align: right;\">                            0</td><td style=\"text-align: right;\">           1</td><td style=\"text-align: right;\">                               0</td><td style=\"text-align: right;\">                             0</td><td style=\"text-align: right;\">                         1</td><td style=\"text-align: right;\">                       0</td><td style=\"text-align: right;\">                     0</td><td style=\"text-align: right;\">                                0</td><td style=\"text-align: right;\">                          0</td><td style=\"text-align: right;\">                0</td><td style=\"text-align: right;\">                      0</td><td style=\"text-align: right;\">        0</td><td style=\"text-align: right;\">                       0</td><td style=\"text-align: right;\">                  0</td><td style=\"text-align: right;\">                   0</td><td style=\"text-align: right;\">                1</td><td style=\"text-align: right;\">                     0</td></tr>\n",
              "<tr><td style=\"text-align: right;\">   40</td><td style=\"text-align: right;\">          0</td><td style=\"text-align: right;\">               2</td><td style=\"text-align: right;\">                20</td><td style=\"text-align: right;\">          4</td><td style=\"text-align: right;\">                        1</td><td style=\"text-align: right;\">       1</td><td style=\"text-align: right;\">               3</td><td style=\"text-align: right;\">         3</td><td style=\"text-align: right;\">                4</td><td style=\"text-align: right;\">              3</td><td style=\"text-align: right;\">          10322</td><td style=\"text-align: right;\">                   4</td><td style=\"text-align: right;\">         0</td><td style=\"text-align: right;\">                 20</td><td style=\"text-align: right;\">                  4</td><td style=\"text-align: right;\">                         4</td><td style=\"text-align: right;\">                 1</td><td style=\"text-align: right;\">                 14</td><td style=\"text-align: right;\">                      6</td><td style=\"text-align: right;\">                3</td><td style=\"text-align: right;\">              11</td><td style=\"text-align: right;\">                  10</td><td style=\"text-align: right;\">                       11</td><td style=\"text-align: right;\">                     1</td><td style=\"text-align: right;\">                    0</td><td style=\"text-align: right;\">                            1</td><td style=\"text-align: right;\">           0</td><td style=\"text-align: right;\">                               0</td><td style=\"text-align: right;\">                             0</td><td style=\"text-align: right;\">                         0</td><td style=\"text-align: right;\">                       0</td><td style=\"text-align: right;\">                     0</td><td style=\"text-align: right;\">                                1</td><td style=\"text-align: right;\">                          1</td><td style=\"text-align: right;\">                0</td><td style=\"text-align: right;\">                      0</td><td style=\"text-align: right;\">        0</td><td style=\"text-align: right;\">                       0</td><td style=\"text-align: right;\">                  0</td><td style=\"text-align: right;\">                   0</td><td style=\"text-align: right;\">                0</td><td style=\"text-align: right;\">                     0</td></tr>\n",
              "<tr><td style=\"text-align: right;\">   29</td><td style=\"text-align: right;\">          1</td><td style=\"text-align: right;\">               3</td><td style=\"text-align: right;\">                24</td><td style=\"text-align: right;\">          2</td><td style=\"text-align: right;\">                        4</td><td style=\"text-align: right;\">       1</td><td style=\"text-align: right;\">               2</td><td style=\"text-align: right;\">         1</td><td style=\"text-align: right;\">                4</td><td style=\"text-align: right;\">              1</td><td style=\"text-align: right;\">           2439</td><td style=\"text-align: right;\">                   1</td><td style=\"text-align: right;\">         1</td><td style=\"text-align: right;\">                 24</td><td style=\"text-align: right;\">                  4</td><td style=\"text-align: right;\">                         2</td><td style=\"text-align: right;\">                 0</td><td style=\"text-align: right;\">                  1</td><td style=\"text-align: right;\">                      3</td><td style=\"text-align: right;\">                2</td><td style=\"text-align: right;\">               1</td><td style=\"text-align: right;\">                   0</td><td style=\"text-align: right;\">                        1</td><td style=\"text-align: right;\">                     0</td><td style=\"text-align: right;\">                    0</td><td style=\"text-align: right;\">                            1</td><td style=\"text-align: right;\">           0</td><td style=\"text-align: right;\">                               0</td><td style=\"text-align: right;\">                             1</td><td style=\"text-align: right;\">                         0</td><td style=\"text-align: right;\">                       0</td><td style=\"text-align: right;\">                     0</td><td style=\"text-align: right;\">                                0</td><td style=\"text-align: right;\">                          0</td><td style=\"text-align: right;\">                0</td><td style=\"text-align: right;\">                      0</td><td style=\"text-align: right;\">        0</td><td style=\"text-align: right;\">                       0</td><td style=\"text-align: right;\">                  0</td><td style=\"text-align: right;\">                   1</td><td style=\"text-align: right;\">                0</td><td style=\"text-align: right;\">                     0</td></tr>\n",
              "<tr><td style=\"text-align: right;\">   30</td><td style=\"text-align: right;\">          0</td><td style=\"text-align: right;\">               3</td><td style=\"text-align: right;\">                 3</td><td style=\"text-align: right;\">          3</td><td style=\"text-align: right;\">                        3</td><td style=\"text-align: right;\">       0</td><td style=\"text-align: right;\">               3</td><td style=\"text-align: right;\">         1</td><td style=\"text-align: right;\">                3</td><td style=\"text-align: right;\">              2</td><td style=\"text-align: right;\">           2083</td><td style=\"text-align: right;\">                   1</td><td style=\"text-align: right;\">         0</td><td style=\"text-align: right;\">                 20</td><td style=\"text-align: right;\">                  4</td><td style=\"text-align: right;\">                         3</td><td style=\"text-align: right;\">                 1</td><td style=\"text-align: right;\">                  1</td><td style=\"text-align: right;\">                      2</td><td style=\"text-align: right;\">                3</td><td style=\"text-align: right;\">               1</td><td style=\"text-align: right;\">                   0</td><td style=\"text-align: right;\">                        0</td><td style=\"text-align: right;\">                     0</td><td style=\"text-align: right;\">                    0</td><td style=\"text-align: right;\">                            1</td><td style=\"text-align: right;\">           0</td><td style=\"text-align: right;\">                               0</td><td style=\"text-align: right;\">                             0</td><td style=\"text-align: right;\">                         0</td><td style=\"text-align: right;\">                       1</td><td style=\"text-align: right;\">                     0</td><td style=\"text-align: right;\">                                0</td><td style=\"text-align: right;\">                          0</td><td style=\"text-align: right;\">                0</td><td style=\"text-align: right;\">                      0</td><td style=\"text-align: right;\">        0</td><td style=\"text-align: right;\">                       0</td><td style=\"text-align: right;\">                  0</td><td style=\"text-align: right;\">                   1</td><td style=\"text-align: right;\">                0</td><td style=\"text-align: right;\">                     0</td></tr>\n",
              "<tr><td style=\"text-align: right;\">   34</td><td style=\"text-align: right;\">          1</td><td style=\"text-align: right;\">               2</td><td style=\"text-align: right;\">                24</td><td style=\"text-align: right;\">          4</td><td style=\"text-align: right;\">                        1</td><td style=\"text-align: right;\">       0</td><td style=\"text-align: right;\">               2</td><td style=\"text-align: right;\">         2</td><td style=\"text-align: right;\">                2</td><td style=\"text-align: right;\">              1</td><td style=\"text-align: right;\">           4599</td><td style=\"text-align: right;\">                   0</td><td style=\"text-align: right;\">         1</td><td style=\"text-align: right;\">                 23</td><td style=\"text-align: right;\">                  4</td><td style=\"text-align: right;\">                         3</td><td style=\"text-align: right;\">                 0</td><td style=\"text-align: right;\">                 16</td><td style=\"text-align: right;\">                      2</td><td style=\"text-align: right;\">                4</td><td style=\"text-align: right;\">              15</td><td style=\"text-align: right;\">                   9</td><td style=\"text-align: right;\">                       10</td><td style=\"text-align: right;\">                    10</td><td style=\"text-align: right;\">                    0</td><td style=\"text-align: right;\">                            0</td><td style=\"text-align: right;\">           1</td><td style=\"text-align: right;\">                               0</td><td style=\"text-align: right;\">                             0</td><td style=\"text-align: right;\">                         0</td><td style=\"text-align: right;\">                       1</td><td style=\"text-align: right;\">                     0</td><td style=\"text-align: right;\">                                0</td><td style=\"text-align: right;\">                          0</td><td style=\"text-align: right;\">                0</td><td style=\"text-align: right;\">                      0</td><td style=\"text-align: right;\">        0</td><td style=\"text-align: right;\">                       0</td><td style=\"text-align: right;\">                  0</td><td style=\"text-align: right;\">                   0</td><td style=\"text-align: right;\">                1</td><td style=\"text-align: right;\">                     0</td></tr>\n",
              "<tr><td style=\"text-align: right;\">   33</td><td style=\"text-align: right;\">          0</td><td style=\"text-align: right;\">               1</td><td style=\"text-align: right;\">                 2</td><td style=\"text-align: right;\">          3</td><td style=\"text-align: right;\">                        4</td><td style=\"text-align: right;\">       0</td><td style=\"text-align: right;\">               3</td><td style=\"text-align: right;\">         2</td><td style=\"text-align: right;\">                2</td><td style=\"text-align: right;\">              1</td><td style=\"text-align: right;\">           5147</td><td style=\"text-align: right;\">                   8</td><td style=\"text-align: right;\">         0</td><td style=\"text-align: right;\">                 15</td><td style=\"text-align: right;\">                  3</td><td style=\"text-align: right;\">                         4</td><td style=\"text-align: right;\">                 0</td><td style=\"text-align: right;\">                 13</td><td style=\"text-align: right;\">                      2</td><td style=\"text-align: right;\">                2</td><td style=\"text-align: right;\">              11</td><td style=\"text-align: right;\">                   7</td><td style=\"text-align: right;\">                        1</td><td style=\"text-align: right;\">                     7</td><td style=\"text-align: right;\">                    0</td><td style=\"text-align: right;\">                            0</td><td style=\"text-align: right;\">           1</td><td style=\"text-align: right;\">                               0</td><td style=\"text-align: right;\">                             0</td><td style=\"text-align: right;\">                         1</td><td style=\"text-align: right;\">                       0</td><td style=\"text-align: right;\">                     0</td><td style=\"text-align: right;\">                                0</td><td style=\"text-align: right;\">                          0</td><td style=\"text-align: right;\">                0</td><td style=\"text-align: right;\">                      0</td><td style=\"text-align: right;\">        0</td><td style=\"text-align: right;\">                       0</td><td style=\"text-align: right;\">                  0</td><td style=\"text-align: right;\">                   0</td><td style=\"text-align: right;\">                1</td><td style=\"text-align: right;\">                     0</td></tr>\n",
              "<tr><td style=\"text-align: right;\">   50</td><td style=\"text-align: right;\">          0</td><td style=\"text-align: right;\">               1</td><td style=\"text-align: right;\">                 1</td><td style=\"text-align: right;\">          3</td><td style=\"text-align: right;\">                        4</td><td style=\"text-align: right;\">       0</td><td style=\"text-align: right;\">               3</td><td style=\"text-align: right;\">         2</td><td style=\"text-align: right;\">                3</td><td style=\"text-align: right;\">              3</td><td style=\"text-align: right;\">           6347</td><td style=\"text-align: right;\">                   0</td><td style=\"text-align: right;\">         0</td><td style=\"text-align: right;\">                 12</td><td style=\"text-align: right;\">                  3</td><td style=\"text-align: right;\">                         1</td><td style=\"text-align: right;\">                 1</td><td style=\"text-align: right;\">                 19</td><td style=\"text-align: right;\">                      3</td><td style=\"text-align: right;\">                3</td><td style=\"text-align: right;\">              18</td><td style=\"text-align: right;\">                   7</td><td style=\"text-align: right;\">                        0</td><td style=\"text-align: right;\">                    13</td><td style=\"text-align: right;\">                    0</td><td style=\"text-align: right;\">                            0</td><td style=\"text-align: right;\">           1</td><td style=\"text-align: right;\">                               0</td><td style=\"text-align: right;\">                             1</td><td style=\"text-align: right;\">                         0</td><td style=\"text-align: right;\">                       0</td><td style=\"text-align: right;\">                     0</td><td style=\"text-align: right;\">                                0</td><td style=\"text-align: right;\">                          0</td><td style=\"text-align: right;\">                0</td><td style=\"text-align: right;\">                      0</td><td style=\"text-align: right;\">        0</td><td style=\"text-align: right;\">                       0</td><td style=\"text-align: right;\">                  0</td><td style=\"text-align: right;\">                   0</td><td style=\"text-align: right;\">                1</td><td style=\"text-align: right;\">                     0</td></tr>\n",
              "<tr><td style=\"text-align: right;\">   56</td><td style=\"text-align: right;\">          1</td><td style=\"text-align: right;\">               2</td><td style=\"text-align: right;\">                14</td><td style=\"text-align: right;\">          4</td><td style=\"text-align: right;\">                        2</td><td style=\"text-align: right;\">       0</td><td style=\"text-align: right;\">               3</td><td style=\"text-align: right;\">         1</td><td style=\"text-align: right;\">                2</td><td style=\"text-align: right;\">              3</td><td style=\"text-align: right;\">           4963</td><td style=\"text-align: right;\">                   9</td><td style=\"text-align: right;\">         1</td><td style=\"text-align: right;\">                 18</td><td style=\"text-align: right;\">                  3</td><td style=\"text-align: right;\">                         1</td><td style=\"text-align: right;\">                 3</td><td style=\"text-align: right;\">                  7</td><td style=\"text-align: right;\">                      2</td><td style=\"text-align: right;\">                3</td><td style=\"text-align: right;\">               5</td><td style=\"text-align: right;\">                   4</td><td style=\"text-align: right;\">                        4</td><td style=\"text-align: right;\">                     3</td><td style=\"text-align: right;\">                    0</td><td style=\"text-align: right;\">                            1</td><td style=\"text-align: right;\">           0</td><td style=\"text-align: right;\">                               0</td><td style=\"text-align: right;\">                             1</td><td style=\"text-align: right;\">                         0</td><td style=\"text-align: right;\">                       0</td><td style=\"text-align: right;\">                     0</td><td style=\"text-align: right;\">                                0</td><td style=\"text-align: right;\">                          0</td><td style=\"text-align: right;\">                0</td><td style=\"text-align: right;\">                      0</td><td style=\"text-align: right;\">        0</td><td style=\"text-align: right;\">                       0</td><td style=\"text-align: right;\">                  0</td><td style=\"text-align: right;\">                   1</td><td style=\"text-align: right;\">                0</td><td style=\"text-align: right;\">                     0</td></tr>\n",
              "</tbody>\n",
              "</table>"
            ]
          },
          "metadata": {
            "tags": []
          }
        },
        {
          "output_type": "execute_result",
          "data": {
            "text/plain": [
              ""
            ]
          },
          "metadata": {
            "tags": []
          },
          "execution_count": 8
        }
      ]
    },
    {
      "cell_type": "code",
      "metadata": {
        "id": "B6UPVaV22ao7"
      },
      "source": [
        "t=pd.read_csv('test.csv')"
      ],
      "execution_count": 10,
      "outputs": []
    },
    {
      "cell_type": "code",
      "metadata": {
        "colab": {
          "base_uri": "https://localhost:8080/",
          "height": 338
        },
        "id": "jdHQHJkf2hB5",
        "outputId": "1cb74053-4acd-4b6d-e5ea-6e49ca5003d9"
      },
      "source": [
        "t.describe()"
      ],
      "execution_count": 11,
      "outputs": [
        {
          "output_type": "execute_result",
          "data": {
            "text/html": [
              "<div>\n",
              "<style scoped>\n",
              "    .dataframe tbody tr th:only-of-type {\n",
              "        vertical-align: middle;\n",
              "    }\n",
              "\n",
              "    .dataframe tbody tr th {\n",
              "        vertical-align: top;\n",
              "    }\n",
              "\n",
              "    .dataframe thead th {\n",
              "        text-align: right;\n",
              "    }\n",
              "</style>\n",
              "<table border=\"1\" class=\"dataframe\">\n",
              "  <thead>\n",
              "    <tr style=\"text-align: right;\">\n",
              "      <th></th>\n",
              "      <th>Age</th>\n",
              "      <th>Attrition</th>\n",
              "      <th>BusinessTravel</th>\n",
              "      <th>DistanceFromHome</th>\n",
              "      <th>Education</th>\n",
              "      <th>EnvironmentSatisfaction</th>\n",
              "      <th>Gender</th>\n",
              "      <th>JobInvolvement</th>\n",
              "      <th>JobLevel</th>\n",
              "      <th>JobSatisfaction</th>\n",
              "      <th>MaritalStatus</th>\n",
              "      <th>MonthlyIncome</th>\n",
              "      <th>NumCompaniesWorked</th>\n",
              "      <th>OverTime</th>\n",
              "      <th>PercentSalaryHike</th>\n",
              "      <th>PerformanceRating</th>\n",
              "      <th>RelationshipSatisfaction</th>\n",
              "      <th>StockOptionLevel</th>\n",
              "      <th>TotalWorkingYears</th>\n",
              "      <th>TrainingTimesLastYear</th>\n",
              "      <th>WorkLifeBalance</th>\n",
              "      <th>YearsAtCompany</th>\n",
              "      <th>YearsInCurrentRole</th>\n",
              "      <th>YearsSinceLastPromotion</th>\n",
              "      <th>YearsWithCurrManager</th>\n",
              "      <th>Dept-Human Resouces</th>\n",
              "      <th>Dept-Research &amp; Development</th>\n",
              "      <th>Dept-Sales</th>\n",
              "      <th>EducationField-Human Resources</th>\n",
              "      <th>EducationField-Life Sciences</th>\n",
              "      <th>EducationField-Marketing</th>\n",
              "      <th>EducationField-Medical</th>\n",
              "      <th>EducationField-Other</th>\n",
              "      <th>EducationField-Technical Degree</th>\n",
              "      <th>Healthcare Representative</th>\n",
              "      <th>Human Resources</th>\n",
              "      <th>Laboratory Technician</th>\n",
              "      <th>Manager</th>\n",
              "      <th>Manufacturing Director</th>\n",
              "      <th>Research Director</th>\n",
              "      <th>Research Scientist</th>\n",
              "      <th>Sales Executive</th>\n",
              "      <th>Sales Representative</th>\n",
              "    </tr>\n",
              "  </thead>\n",
              "  <tbody>\n",
              "    <tr>\n",
              "      <th>count</th>\n",
              "      <td>294.000000</td>\n",
              "      <td>294.000000</td>\n",
              "      <td>294.000000</td>\n",
              "      <td>294.000000</td>\n",
              "      <td>294.000000</td>\n",
              "      <td>294.000000</td>\n",
              "      <td>294.000000</td>\n",
              "      <td>294.000000</td>\n",
              "      <td>294.000000</td>\n",
              "      <td>294.000000</td>\n",
              "      <td>294.000000</td>\n",
              "      <td>294.000000</td>\n",
              "      <td>294.000000</td>\n",
              "      <td>294.000000</td>\n",
              "      <td>294.000000</td>\n",
              "      <td>294.000000</td>\n",
              "      <td>294.000000</td>\n",
              "      <td>294.000000</td>\n",
              "      <td>294.000000</td>\n",
              "      <td>294.000000</td>\n",
              "      <td>294.000000</td>\n",
              "      <td>294.000000</td>\n",
              "      <td>294.000000</td>\n",
              "      <td>294.000000</td>\n",
              "      <td>294.000000</td>\n",
              "      <td>294.000000</td>\n",
              "      <td>294.000000</td>\n",
              "      <td>294.000000</td>\n",
              "      <td>294.000000</td>\n",
              "      <td>294.000000</td>\n",
              "      <td>294.000000</td>\n",
              "      <td>294.000000</td>\n",
              "      <td>294.000000</td>\n",
              "      <td>294.000000</td>\n",
              "      <td>294.000000</td>\n",
              "      <td>294.000000</td>\n",
              "      <td>294.000000</td>\n",
              "      <td>294.000000</td>\n",
              "      <td>294.000000</td>\n",
              "      <td>294.000000</td>\n",
              "      <td>294.000000</td>\n",
              "      <td>294.000000</td>\n",
              "      <td>294.000000</td>\n",
              "    </tr>\n",
              "    <tr>\n",
              "      <th>mean</th>\n",
              "      <td>37.397959</td>\n",
              "      <td>0.166667</td>\n",
              "      <td>2.112245</td>\n",
              "      <td>9.323129</td>\n",
              "      <td>2.891156</td>\n",
              "      <td>2.605442</td>\n",
              "      <td>0.574830</td>\n",
              "      <td>2.751701</td>\n",
              "      <td>2.098639</td>\n",
              "      <td>2.710884</td>\n",
              "      <td>2.221088</td>\n",
              "      <td>6679.894558</td>\n",
              "      <td>2.653061</td>\n",
              "      <td>0.316327</td>\n",
              "      <td>15.438776</td>\n",
              "      <td>3.166667</td>\n",
              "      <td>2.704082</td>\n",
              "      <td>0.748299</td>\n",
              "      <td>11.751701</td>\n",
              "      <td>2.928571</td>\n",
              "      <td>2.748299</td>\n",
              "      <td>7.112245</td>\n",
              "      <td>4.350340</td>\n",
              "      <td>2.295918</td>\n",
              "      <td>4.221088</td>\n",
              "      <td>0.034014</td>\n",
              "      <td>0.642857</td>\n",
              "      <td>0.323129</td>\n",
              "      <td>0.013605</td>\n",
              "      <td>0.394558</td>\n",
              "      <td>0.119048</td>\n",
              "      <td>0.312925</td>\n",
              "      <td>0.074830</td>\n",
              "      <td>0.085034</td>\n",
              "      <td>0.112245</td>\n",
              "      <td>0.030612</td>\n",
              "      <td>0.166667</td>\n",
              "      <td>0.071429</td>\n",
              "      <td>0.095238</td>\n",
              "      <td>0.057823</td>\n",
              "      <td>0.176871</td>\n",
              "      <td>0.231293</td>\n",
              "      <td>0.057823</td>\n",
              "    </tr>\n",
              "    <tr>\n",
              "      <th>std</th>\n",
              "      <td>9.410335</td>\n",
              "      <td>0.373313</td>\n",
              "      <td>0.513623</td>\n",
              "      <td>7.996651</td>\n",
              "      <td>1.081203</td>\n",
              "      <td>1.074418</td>\n",
              "      <td>0.495212</td>\n",
              "      <td>0.698302</td>\n",
              "      <td>1.111742</td>\n",
              "      <td>1.106026</td>\n",
              "      <td>0.863814</td>\n",
              "      <td>4643.527654</td>\n",
              "      <td>2.406343</td>\n",
              "      <td>0.465835</td>\n",
              "      <td>3.686706</td>\n",
              "      <td>0.373313</td>\n",
              "      <td>1.085516</td>\n",
              "      <td>0.795410</td>\n",
              "      <td>7.907933</td>\n",
              "      <td>1.428023</td>\n",
              "      <td>0.679726</td>\n",
              "      <td>6.263088</td>\n",
              "      <td>3.594134</td>\n",
              "      <td>3.282623</td>\n",
              "      <td>3.588296</td>\n",
              "      <td>0.181573</td>\n",
              "      <td>0.479974</td>\n",
              "      <td>0.468469</td>\n",
              "      <td>0.116044</td>\n",
              "      <td>0.489589</td>\n",
              "      <td>0.324397</td>\n",
              "      <td>0.464475</td>\n",
              "      <td>0.263565</td>\n",
              "      <td>0.279408</td>\n",
              "      <td>0.316206</td>\n",
              "      <td>0.172558</td>\n",
              "      <td>0.373313</td>\n",
              "      <td>0.257978</td>\n",
              "      <td>0.294044</td>\n",
              "      <td>0.233807</td>\n",
              "      <td>0.382210</td>\n",
              "      <td>0.422378</td>\n",
              "      <td>0.233807</td>\n",
              "    </tr>\n",
              "    <tr>\n",
              "      <th>min</th>\n",
              "      <td>18.000000</td>\n",
              "      <td>0.000000</td>\n",
              "      <td>1.000000</td>\n",
              "      <td>1.000000</td>\n",
              "      <td>1.000000</td>\n",
              "      <td>1.000000</td>\n",
              "      <td>0.000000</td>\n",
              "      <td>1.000000</td>\n",
              "      <td>1.000000</td>\n",
              "      <td>1.000000</td>\n",
              "      <td>1.000000</td>\n",
              "      <td>1514.000000</td>\n",
              "      <td>0.000000</td>\n",
              "      <td>0.000000</td>\n",
              "      <td>11.000000</td>\n",
              "      <td>3.000000</td>\n",
              "      <td>1.000000</td>\n",
              "      <td>0.000000</td>\n",
              "      <td>0.000000</td>\n",
              "      <td>0.000000</td>\n",
              "      <td>1.000000</td>\n",
              "      <td>0.000000</td>\n",
              "      <td>0.000000</td>\n",
              "      <td>0.000000</td>\n",
              "      <td>0.000000</td>\n",
              "      <td>0.000000</td>\n",
              "      <td>0.000000</td>\n",
              "      <td>0.000000</td>\n",
              "      <td>0.000000</td>\n",
              "      <td>0.000000</td>\n",
              "      <td>0.000000</td>\n",
              "      <td>0.000000</td>\n",
              "      <td>0.000000</td>\n",
              "      <td>0.000000</td>\n",
              "      <td>0.000000</td>\n",
              "      <td>0.000000</td>\n",
              "      <td>0.000000</td>\n",
              "      <td>0.000000</td>\n",
              "      <td>0.000000</td>\n",
              "      <td>0.000000</td>\n",
              "      <td>0.000000</td>\n",
              "      <td>0.000000</td>\n",
              "      <td>0.000000</td>\n",
              "    </tr>\n",
              "    <tr>\n",
              "      <th>25%</th>\n",
              "      <td>31.000000</td>\n",
              "      <td>0.000000</td>\n",
              "      <td>2.000000</td>\n",
              "      <td>2.000000</td>\n",
              "      <td>2.000000</td>\n",
              "      <td>2.000000</td>\n",
              "      <td>0.000000</td>\n",
              "      <td>2.000000</td>\n",
              "      <td>1.000000</td>\n",
              "      <td>2.000000</td>\n",
              "      <td>1.000000</td>\n",
              "      <td>3283.500000</td>\n",
              "      <td>1.000000</td>\n",
              "      <td>0.000000</td>\n",
              "      <td>13.000000</td>\n",
              "      <td>3.000000</td>\n",
              "      <td>2.000000</td>\n",
              "      <td>0.000000</td>\n",
              "      <td>6.000000</td>\n",
              "      <td>2.000000</td>\n",
              "      <td>2.000000</td>\n",
              "      <td>3.000000</td>\n",
              "      <td>2.000000</td>\n",
              "      <td>0.000000</td>\n",
              "      <td>2.000000</td>\n",
              "      <td>0.000000</td>\n",
              "      <td>0.000000</td>\n",
              "      <td>0.000000</td>\n",
              "      <td>0.000000</td>\n",
              "      <td>0.000000</td>\n",
              "      <td>0.000000</td>\n",
              "      <td>0.000000</td>\n",
              "      <td>0.000000</td>\n",
              "      <td>0.000000</td>\n",
              "      <td>0.000000</td>\n",
              "      <td>0.000000</td>\n",
              "      <td>0.000000</td>\n",
              "      <td>0.000000</td>\n",
              "      <td>0.000000</td>\n",
              "      <td>0.000000</td>\n",
              "      <td>0.000000</td>\n",
              "      <td>0.000000</td>\n",
              "      <td>0.000000</td>\n",
              "    </tr>\n",
              "    <tr>\n",
              "      <th>50%</th>\n",
              "      <td>36.000000</td>\n",
              "      <td>0.000000</td>\n",
              "      <td>2.000000</td>\n",
              "      <td>7.000000</td>\n",
              "      <td>3.000000</td>\n",
              "      <td>3.000000</td>\n",
              "      <td>1.000000</td>\n",
              "      <td>3.000000</td>\n",
              "      <td>2.000000</td>\n",
              "      <td>3.000000</td>\n",
              "      <td>3.000000</td>\n",
              "      <td>5183.000000</td>\n",
              "      <td>2.000000</td>\n",
              "      <td>0.000000</td>\n",
              "      <td>14.000000</td>\n",
              "      <td>3.000000</td>\n",
              "      <td>3.000000</td>\n",
              "      <td>1.000000</td>\n",
              "      <td>10.000000</td>\n",
              "      <td>3.000000</td>\n",
              "      <td>3.000000</td>\n",
              "      <td>5.000000</td>\n",
              "      <td>3.000000</td>\n",
              "      <td>1.000000</td>\n",
              "      <td>3.000000</td>\n",
              "      <td>0.000000</td>\n",
              "      <td>1.000000</td>\n",
              "      <td>0.000000</td>\n",
              "      <td>0.000000</td>\n",
              "      <td>0.000000</td>\n",
              "      <td>0.000000</td>\n",
              "      <td>0.000000</td>\n",
              "      <td>0.000000</td>\n",
              "      <td>0.000000</td>\n",
              "      <td>0.000000</td>\n",
              "      <td>0.000000</td>\n",
              "      <td>0.000000</td>\n",
              "      <td>0.000000</td>\n",
              "      <td>0.000000</td>\n",
              "      <td>0.000000</td>\n",
              "      <td>0.000000</td>\n",
              "      <td>0.000000</td>\n",
              "      <td>0.000000</td>\n",
              "    </tr>\n",
              "    <tr>\n",
              "      <th>75%</th>\n",
              "      <td>43.000000</td>\n",
              "      <td>0.000000</td>\n",
              "      <td>2.000000</td>\n",
              "      <td>14.000000</td>\n",
              "      <td>4.000000</td>\n",
              "      <td>3.000000</td>\n",
              "      <td>1.000000</td>\n",
              "      <td>3.000000</td>\n",
              "      <td>3.000000</td>\n",
              "      <td>4.000000</td>\n",
              "      <td>3.000000</td>\n",
              "      <td>8368.500000</td>\n",
              "      <td>4.000000</td>\n",
              "      <td>1.000000</td>\n",
              "      <td>18.000000</td>\n",
              "      <td>3.000000</td>\n",
              "      <td>4.000000</td>\n",
              "      <td>1.000000</td>\n",
              "      <td>15.000000</td>\n",
              "      <td>3.000000</td>\n",
              "      <td>3.000000</td>\n",
              "      <td>9.750000</td>\n",
              "      <td>7.000000</td>\n",
              "      <td>3.000000</td>\n",
              "      <td>7.000000</td>\n",
              "      <td>0.000000</td>\n",
              "      <td>1.000000</td>\n",
              "      <td>1.000000</td>\n",
              "      <td>0.000000</td>\n",
              "      <td>1.000000</td>\n",
              "      <td>0.000000</td>\n",
              "      <td>1.000000</td>\n",
              "      <td>0.000000</td>\n",
              "      <td>0.000000</td>\n",
              "      <td>0.000000</td>\n",
              "      <td>0.000000</td>\n",
              "      <td>0.000000</td>\n",
              "      <td>0.000000</td>\n",
              "      <td>0.000000</td>\n",
              "      <td>0.000000</td>\n",
              "      <td>0.000000</td>\n",
              "      <td>0.000000</td>\n",
              "      <td>0.000000</td>\n",
              "    </tr>\n",
              "    <tr>\n",
              "      <th>max</th>\n",
              "      <td>60.000000</td>\n",
              "      <td>1.000000</td>\n",
              "      <td>3.000000</td>\n",
              "      <td>29.000000</td>\n",
              "      <td>5.000000</td>\n",
              "      <td>4.000000</td>\n",
              "      <td>1.000000</td>\n",
              "      <td>4.000000</td>\n",
              "      <td>5.000000</td>\n",
              "      <td>4.000000</td>\n",
              "      <td>3.000000</td>\n",
              "      <td>19740.000000</td>\n",
              "      <td>9.000000</td>\n",
              "      <td>1.000000</td>\n",
              "      <td>25.000000</td>\n",
              "      <td>4.000000</td>\n",
              "      <td>4.000000</td>\n",
              "      <td>3.000000</td>\n",
              "      <td>37.000000</td>\n",
              "      <td>6.000000</td>\n",
              "      <td>4.000000</td>\n",
              "      <td>36.000000</td>\n",
              "      <td>17.000000</td>\n",
              "      <td>15.000000</td>\n",
              "      <td>17.000000</td>\n",
              "      <td>1.000000</td>\n",
              "      <td>1.000000</td>\n",
              "      <td>1.000000</td>\n",
              "      <td>1.000000</td>\n",
              "      <td>1.000000</td>\n",
              "      <td>1.000000</td>\n",
              "      <td>1.000000</td>\n",
              "      <td>1.000000</td>\n",
              "      <td>1.000000</td>\n",
              "      <td>1.000000</td>\n",
              "      <td>1.000000</td>\n",
              "      <td>1.000000</td>\n",
              "      <td>1.000000</td>\n",
              "      <td>1.000000</td>\n",
              "      <td>1.000000</td>\n",
              "      <td>1.000000</td>\n",
              "      <td>1.000000</td>\n",
              "      <td>1.000000</td>\n",
              "    </tr>\n",
              "  </tbody>\n",
              "</table>\n",
              "</div>"
            ],
            "text/plain": [
              "              Age   Attrition  ...  Sales Executive  Sales Representative\n",
              "count  294.000000  294.000000  ...       294.000000            294.000000\n",
              "mean    37.397959    0.166667  ...         0.231293              0.057823\n",
              "std      9.410335    0.373313  ...         0.422378              0.233807\n",
              "min     18.000000    0.000000  ...         0.000000              0.000000\n",
              "25%     31.000000    0.000000  ...         0.000000              0.000000\n",
              "50%     36.000000    0.000000  ...         0.000000              0.000000\n",
              "75%     43.000000    0.000000  ...         0.000000              0.000000\n",
              "max     60.000000    1.000000  ...         1.000000              1.000000\n",
              "\n",
              "[8 rows x 43 columns]"
            ]
          },
          "metadata": {
            "tags": []
          },
          "execution_count": 11
        }
      ]
    },
    {
      "cell_type": "code",
      "metadata": {
        "id": "nADo75B87Aki"
      },
      "source": [
        "#Taking input the slack variables\n",
        "slack=[]\n",
        "for x in t.columns:\n",
        "  print(\"Do you want to make \",x,\" a slack variable ? ( 1 for Yes , 0 for No) \")\n",
        "  a=input()\n",
        "  print(a)\n",
        "  if a==\"1\":\n",
        "    slack.append(x)"
      ],
      "execution_count": null,
      "outputs": []
    },
    {
      "cell_type": "code",
      "metadata": {
        "id": "Ot4ozg-O74pH"
      },
      "source": [
        "slack=['BusinessTravel','EnvironmentSatisfaction','JobInvolvement','JobSatisfaction','MonthlyIncome','OverTime','PercentSalaryHike','RelationshipSatisfaction','StockOptionLevel','TrainingTimesLastYear','WorkLifeBalance','YearsInCurrentRole','YearsSinceLastPromotion','YearsWithCurrManager']"
      ],
      "execution_count": 29,
      "outputs": []
    },
    {
      "cell_type": "code",
      "metadata": {
        "colab": {
          "base_uri": "https://localhost:8080/"
        },
        "id": "8Te7iceo8mnq",
        "outputId": "97ca4a96-a593-4305-82aa-0e21020a53bb"
      },
      "source": [
        "slack"
      ],
      "execution_count": 30,
      "outputs": [
        {
          "output_type": "execute_result",
          "data": {
            "text/plain": [
              "['BusinessTravel',\n",
              " 'EnvironmentSatisfaction',\n",
              " 'JobInvolvement',\n",
              " 'JobSatisfaction',\n",
              " 'MonthlyIncome',\n",
              " 'OverTime',\n",
              " 'PercentSalaryHike',\n",
              " 'RelationshipSatisfaction',\n",
              " 'StockOptionLevel',\n",
              " 'TrainingTimesLastYear',\n",
              " 'WorkLifeBalance',\n",
              " 'YearsInCurrentRole',\n",
              " 'YearsSinceLastPromotion',\n",
              " 'YearsWithCurrManager']"
            ]
          },
          "metadata": {
            "tags": []
          },
          "execution_count": 30
        }
      ]
    },
    {
      "cell_type": "code",
      "metadata": {
        "id": "jBxjlvzG8nLj"
      },
      "source": [
        ""
      ],
      "execution_count": null,
      "outputs": []
    }
  ]
}