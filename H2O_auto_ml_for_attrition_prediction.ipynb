{
  "nbformat": 4,
  "nbformat_minor": 0,
  "metadata": {
    "colab": {
      "name": "H2O auto ml for attrition prediction.ipynb",
      "provenance": []
    },
    "kernelspec": {
      "name": "python3",
      "display_name": "Python 3"
    },
    "language_info": {
      "name": "python"
    }
  },
  "cells": [
    {
      "cell_type": "code",
      "metadata": {
        "colab": {
          "base_uri": "https://localhost:8080/"
        },
        "id": "26KtINnhwyNb",
        "outputId": "36526ffe-bb46-477d-92d1-3b55809d7365"
      },
      "source": [
        "pip install h2o"
      ],
      "execution_count": 4,
      "outputs": [
        {
          "output_type": "stream",
          "text": [
            "Collecting h2o\n",
            "\u001b[?25l  Downloading https://files.pythonhosted.org/packages/32/86/b64475aa453185c594c861c1937bad77dfef2ce1295b850c46e295ae4f18/h2o-3.32.0.5.tar.gz (164.6MB)\n",
            "\u001b[K     |████████████████████████████████| 164.6MB 30kB/s \n",
            "\u001b[?25hRequirement already satisfied: requests in /usr/local/lib/python3.7/dist-packages (from h2o) (2.23.0)\n",
            "Requirement already satisfied: tabulate in /usr/local/lib/python3.7/dist-packages (from h2o) (0.8.9)\n",
            "Requirement already satisfied: future in /usr/local/lib/python3.7/dist-packages (from h2o) (0.16.0)\n",
            "Collecting colorama>=0.3.8\n",
            "  Downloading https://files.pythonhosted.org/packages/44/98/5b86278fbbf250d239ae0ecb724f8572af1c91f4a11edf4d36a206189440/colorama-0.4.4-py2.py3-none-any.whl\n",
            "Requirement already satisfied: certifi>=2017.4.17 in /usr/local/lib/python3.7/dist-packages (from requests->h2o) (2020.12.5)\n",
            "Requirement already satisfied: idna<3,>=2.5 in /usr/local/lib/python3.7/dist-packages (from requests->h2o) (2.10)\n",
            "Requirement already satisfied: urllib3!=1.25.0,!=1.25.1,<1.26,>=1.21.1 in /usr/local/lib/python3.7/dist-packages (from requests->h2o) (1.24.3)\n",
            "Requirement already satisfied: chardet<4,>=3.0.2 in /usr/local/lib/python3.7/dist-packages (from requests->h2o) (3.0.4)\n",
            "Building wheels for collected packages: h2o\n",
            "  Building wheel for h2o (setup.py) ... \u001b[?25l\u001b[?25hdone\n",
            "  Created wheel for h2o: filename=h2o-3.32.0.5-py2.py3-none-any.whl size=164673888 sha256=c63216866783fad01dbaf2fc5cfe269eae4a10b635b18fbe7220a13172e01bef\n",
            "  Stored in directory: /root/.cache/pip/wheels/f7/54/f6/f88d58b676e135bbab981238fcf77f27161ec02b7cc893d8c7\n",
            "Successfully built h2o\n",
            "Installing collected packages: colorama, h2o\n",
            "Successfully installed colorama-0.4.4 h2o-3.32.0.5\n"
          ],
          "name": "stdout"
        }
      ]
    },
    {
      "cell_type": "code",
      "metadata": {
        "colab": {
          "base_uri": "https://localhost:8080/",
          "height": 372
        },
        "id": "LAWnsKb4xIaX",
        "outputId": "10fe1d79-27fb-4756-a663-519261c173f5"
      },
      "source": [
        "import h2o\n",
        "from h2o.automl import H2OAutoML\n",
        "h2o.init()"
      ],
      "execution_count": 45,
      "outputs": [
        {
          "output_type": "stream",
          "text": [
            "Checking whether there is an H2O instance running at http://localhost:54321 . connected.\n"
          ],
          "name": "stdout"
        },
        {
          "output_type": "display_data",
          "data": {
            "text/html": [
              "<div style=\"overflow:auto\"><table style=\"width:50%\"><tr><td>H2O_cluster_uptime:</td>\n",
              "<td>39 mins 13 secs</td></tr>\n",
              "<tr><td>H2O_cluster_timezone:</td>\n",
              "<td>Etc/UTC</td></tr>\n",
              "<tr><td>H2O_data_parsing_timezone:</td>\n",
              "<td>UTC</td></tr>\n",
              "<tr><td>H2O_cluster_version:</td>\n",
              "<td>3.32.0.5</td></tr>\n",
              "<tr><td>H2O_cluster_version_age:</td>\n",
              "<td>2 days </td></tr>\n",
              "<tr><td>H2O_cluster_name:</td>\n",
              "<td>H2O_from_python_unknownUser_c4f5yn</td></tr>\n",
              "<tr><td>H2O_cluster_total_nodes:</td>\n",
              "<td>1</td></tr>\n",
              "<tr><td>H2O_cluster_free_memory:</td>\n",
              "<td>3.161 Gb</td></tr>\n",
              "<tr><td>H2O_cluster_total_cores:</td>\n",
              "<td>2</td></tr>\n",
              "<tr><td>H2O_cluster_allowed_cores:</td>\n",
              "<td>2</td></tr>\n",
              "<tr><td>H2O_cluster_status:</td>\n",
              "<td>locked, healthy</td></tr>\n",
              "<tr><td>H2O_connection_url:</td>\n",
              "<td>http://localhost:54321</td></tr>\n",
              "<tr><td>H2O_connection_proxy:</td>\n",
              "<td>{\"http\": null, \"https\": null}</td></tr>\n",
              "<tr><td>H2O_internal_security:</td>\n",
              "<td>False</td></tr>\n",
              "<tr><td>H2O_API_Extensions:</td>\n",
              "<td>Amazon S3, XGBoost, Algos, AutoML, Core V3, TargetEncoder, Core V4</td></tr>\n",
              "<tr><td>Python_version:</td>\n",
              "<td>3.7.10 final</td></tr></table></div>"
            ],
            "text/plain": [
              "--------------------------  ------------------------------------------------------------------\n",
              "H2O_cluster_uptime:         39 mins 13 secs\n",
              "H2O_cluster_timezone:       Etc/UTC\n",
              "H2O_data_parsing_timezone:  UTC\n",
              "H2O_cluster_version:        3.32.0.5\n",
              "H2O_cluster_version_age:    2 days\n",
              "H2O_cluster_name:           H2O_from_python_unknownUser_c4f5yn\n",
              "H2O_cluster_total_nodes:    1\n",
              "H2O_cluster_free_memory:    3.161 Gb\n",
              "H2O_cluster_total_cores:    2\n",
              "H2O_cluster_allowed_cores:  2\n",
              "H2O_cluster_status:         locked, healthy\n",
              "H2O_connection_url:         http://localhost:54321\n",
              "H2O_connection_proxy:       {\"http\": null, \"https\": null}\n",
              "H2O_internal_security:      False\n",
              "H2O_API_Extensions:         Amazon S3, XGBoost, Algos, AutoML, Core V3, TargetEncoder, Core V4\n",
              "Python_version:             3.7.10 final\n",
              "--------------------------  ------------------------------------------------------------------"
            ]
          },
          "metadata": {
            "tags": []
          }
        }
      ]
    },
    {
      "cell_type": "code",
      "metadata": {
        "id": "J-3xBb5fxSY1"
      },
      "source": [
        "import pandas as pd\n",
        "import numpy as np\n",
        "np.random.seed(1337) # for reproducibility"
      ],
      "execution_count": 46,
      "outputs": []
    },
    {
      "cell_type": "code",
      "metadata": {
        "id": "FQo1-TfkxeC9"
      },
      "source": [
        "data=pd.read_csv('preprocesseddata.csv')"
      ],
      "execution_count": 47,
      "outputs": []
    },
    {
      "cell_type": "code",
      "metadata": {
        "id": "gFY-8sqlxliT"
      },
      "source": [
        "from sklearn.model_selection import train_test_split\n",
        "train,test=train_test_split(data,train_size=0.8,random_state=0)"
      ],
      "execution_count": 48,
      "outputs": []
    },
    {
      "cell_type": "code",
      "metadata": {
        "id": "AWePBUgZyFrj"
      },
      "source": [
        "train.to_csv('train.csv',index=False)\n",
        "test.to_csv('test.csv',index=False)"
      ],
      "execution_count": 49,
      "outputs": []
    },
    {
      "cell_type": "code",
      "metadata": {
        "colab": {
          "base_uri": "https://localhost:8080/"
        },
        "id": "JRU_HTR_ySS7",
        "outputId": "458a4dc9-7429-4bbd-bab4-e0a2574bd6f9"
      },
      "source": [
        "train = h2o.import_file(\"train.csv\")\n",
        "test = h2o.import_file(\"test.csv\")"
      ],
      "execution_count": 50,
      "outputs": [
        {
          "output_type": "stream",
          "text": [
            "Parse progress: |█████████████████████████████████████████████████████████| 100%\n",
            "Parse progress: |█████████████████████████████████████████████████████████| 100%\n"
          ],
          "name": "stdout"
        }
      ]
    },
    {
      "cell_type": "code",
      "metadata": {
        "colab": {
          "base_uri": "https://localhost:8080/",
          "height": 292
        },
        "id": "Qejw0aIyyj-j",
        "outputId": "79c0bac0-31d8-4824-e498-1f6d5ee9e61a"
      },
      "source": [
        "train"
      ],
      "execution_count": 51,
      "outputs": [
        {
          "output_type": "display_data",
          "data": {
            "text/html": [
              "<table>\n",
              "<thead>\n",
              "<tr><th style=\"text-align: right;\">  Age</th><th style=\"text-align: right;\">  Attrition</th><th style=\"text-align: right;\">  BusinessTravel</th><th style=\"text-align: right;\">  DistanceFromHome</th><th style=\"text-align: right;\">  Education</th><th style=\"text-align: right;\">  EnvironmentSatisfaction</th><th style=\"text-align: right;\">  Gender</th><th style=\"text-align: right;\">  JobInvolvement</th><th style=\"text-align: right;\">  JobLevel</th><th style=\"text-align: right;\">  JobSatisfaction</th><th style=\"text-align: right;\">  MaritalStatus</th><th style=\"text-align: right;\">  MonthlyIncome</th><th style=\"text-align: right;\">  NumCompaniesWorked</th><th style=\"text-align: right;\">  OverTime</th><th style=\"text-align: right;\">  PercentSalaryHike</th><th style=\"text-align: right;\">  PerformanceRating</th><th style=\"text-align: right;\">  RelationshipSatisfaction</th><th style=\"text-align: right;\">  StockOptionLevel</th><th style=\"text-align: right;\">  TotalWorkingYears</th><th style=\"text-align: right;\">  TrainingTimesLastYear</th><th style=\"text-align: right;\">  WorkLifeBalance</th><th style=\"text-align: right;\">  YearsAtCompany</th><th style=\"text-align: right;\">  YearsInCurrentRole</th><th style=\"text-align: right;\">  YearsSinceLastPromotion</th><th style=\"text-align: right;\">  YearsWithCurrManager</th><th style=\"text-align: right;\">  Dept-Human Resouces</th><th style=\"text-align: right;\">  Dept-Research &amp; Development</th><th style=\"text-align: right;\">  Dept-Sales</th><th style=\"text-align: right;\">  EducationField-Human Resources</th><th style=\"text-align: right;\">  EducationField-Life Sciences</th><th style=\"text-align: right;\">  EducationField-Marketing</th><th style=\"text-align: right;\">  EducationField-Medical</th><th style=\"text-align: right;\">  EducationField-Other</th><th style=\"text-align: right;\">  EducationField-Technical Degree</th><th style=\"text-align: right;\">  Healthcare Representative</th><th style=\"text-align: right;\">  Human Resources</th><th style=\"text-align: right;\">  Laboratory Technician</th><th style=\"text-align: right;\">  Manager</th><th style=\"text-align: right;\">  Manufacturing Director</th><th style=\"text-align: right;\">  Research Director</th><th style=\"text-align: right;\">  Research Scientist</th><th style=\"text-align: right;\">  Sales Executive</th><th style=\"text-align: right;\">  Sales Representative</th></tr>\n",
              "</thead>\n",
              "<tbody>\n",
              "<tr><td style=\"text-align: right;\">   58</td><td style=\"text-align: right;\">          0</td><td style=\"text-align: right;\">               2</td><td style=\"text-align: right;\">                21</td><td style=\"text-align: right;\">          3</td><td style=\"text-align: right;\">                        4</td><td style=\"text-align: right;\">       0</td><td style=\"text-align: right;\">               3</td><td style=\"text-align: right;\">         4</td><td style=\"text-align: right;\">                4</td><td style=\"text-align: right;\">              3</td><td style=\"text-align: right;\">          17875</td><td style=\"text-align: right;\">                   4</td><td style=\"text-align: right;\">         1</td><td style=\"text-align: right;\">                 13</td><td style=\"text-align: right;\">                  3</td><td style=\"text-align: right;\">                         3</td><td style=\"text-align: right;\">                 1</td><td style=\"text-align: right;\">                 29</td><td style=\"text-align: right;\">                      2</td><td style=\"text-align: right;\">                2</td><td style=\"text-align: right;\">               1</td><td style=\"text-align: right;\">                   0</td><td style=\"text-align: right;\">                        0</td><td style=\"text-align: right;\">                     0</td><td style=\"text-align: right;\">                    0</td><td style=\"text-align: right;\">                            0</td><td style=\"text-align: right;\">           1</td><td style=\"text-align: right;\">                               0</td><td style=\"text-align: right;\">                             1</td><td style=\"text-align: right;\">                         0</td><td style=\"text-align: right;\">                       0</td><td style=\"text-align: right;\">                     0</td><td style=\"text-align: right;\">                                0</td><td style=\"text-align: right;\">                          0</td><td style=\"text-align: right;\">                0</td><td style=\"text-align: right;\">                      0</td><td style=\"text-align: right;\">        1</td><td style=\"text-align: right;\">                       0</td><td style=\"text-align: right;\">                  0</td><td style=\"text-align: right;\">                   0</td><td style=\"text-align: right;\">                0</td><td style=\"text-align: right;\">                     0</td></tr>\n",
              "<tr><td style=\"text-align: right;\">   45</td><td style=\"text-align: right;\">          0</td><td style=\"text-align: right;\">               2</td><td style=\"text-align: right;\">                28</td><td style=\"text-align: right;\">          3</td><td style=\"text-align: right;\">                        4</td><td style=\"text-align: right;\">       1</td><td style=\"text-align: right;\">               3</td><td style=\"text-align: right;\">         1</td><td style=\"text-align: right;\">                4</td><td style=\"text-align: right;\">              3</td><td style=\"text-align: right;\">           2132</td><td style=\"text-align: right;\">                   4</td><td style=\"text-align: right;\">         0</td><td style=\"text-align: right;\">                 20</td><td style=\"text-align: right;\">                  4</td><td style=\"text-align: right;\">                         4</td><td style=\"text-align: right;\">                 1</td><td style=\"text-align: right;\">                  8</td><td style=\"text-align: right;\">                      3</td><td style=\"text-align: right;\">                3</td><td style=\"text-align: right;\">               5</td><td style=\"text-align: right;\">                   4</td><td style=\"text-align: right;\">                        0</td><td style=\"text-align: right;\">                     3</td><td style=\"text-align: right;\">                    0</td><td style=\"text-align: right;\">                            1</td><td style=\"text-align: right;\">           0</td><td style=\"text-align: right;\">                               0</td><td style=\"text-align: right;\">                             0</td><td style=\"text-align: right;\">                         0</td><td style=\"text-align: right;\">                       0</td><td style=\"text-align: right;\">                     0</td><td style=\"text-align: right;\">                                1</td><td style=\"text-align: right;\">                          0</td><td style=\"text-align: right;\">                0</td><td style=\"text-align: right;\">                      0</td><td style=\"text-align: right;\">        0</td><td style=\"text-align: right;\">                       0</td><td style=\"text-align: right;\">                  0</td><td style=\"text-align: right;\">                   1</td><td style=\"text-align: right;\">                0</td><td style=\"text-align: right;\">                     0</td></tr>\n",
              "<tr><td style=\"text-align: right;\">   40</td><td style=\"text-align: right;\">          0</td><td style=\"text-align: right;\">               2</td><td style=\"text-align: right;\">                26</td><td style=\"text-align: right;\">          3</td><td style=\"text-align: right;\">                        3</td><td style=\"text-align: right;\">       1</td><td style=\"text-align: right;\">               3</td><td style=\"text-align: right;\">         2</td><td style=\"text-align: right;\">                1</td><td style=\"text-align: right;\">              3</td><td style=\"text-align: right;\">           8396</td><td style=\"text-align: right;\">                   1</td><td style=\"text-align: right;\">         0</td><td style=\"text-align: right;\">                 14</td><td style=\"text-align: right;\">                  3</td><td style=\"text-align: right;\">                         2</td><td style=\"text-align: right;\">                 1</td><td style=\"text-align: right;\">                  8</td><td style=\"text-align: right;\">                      3</td><td style=\"text-align: right;\">                2</td><td style=\"text-align: right;\">               7</td><td style=\"text-align: right;\">                   7</td><td style=\"text-align: right;\">                        7</td><td style=\"text-align: right;\">                     5</td><td style=\"text-align: right;\">                    0</td><td style=\"text-align: right;\">                            0</td><td style=\"text-align: right;\">           1</td><td style=\"text-align: right;\">                               0</td><td style=\"text-align: right;\">                             0</td><td style=\"text-align: right;\">                         1</td><td style=\"text-align: right;\">                       0</td><td style=\"text-align: right;\">                     0</td><td style=\"text-align: right;\">                                0</td><td style=\"text-align: right;\">                          0</td><td style=\"text-align: right;\">                0</td><td style=\"text-align: right;\">                      0</td><td style=\"text-align: right;\">        0</td><td style=\"text-align: right;\">                       0</td><td style=\"text-align: right;\">                  0</td><td style=\"text-align: right;\">                   0</td><td style=\"text-align: right;\">                1</td><td style=\"text-align: right;\">                     0</td></tr>\n",
              "<tr><td style=\"text-align: right;\">   36</td><td style=\"text-align: right;\">          0</td><td style=\"text-align: right;\">               1</td><td style=\"text-align: right;\">                 8</td><td style=\"text-align: right;\">          4</td><td style=\"text-align: right;\">                        1</td><td style=\"text-align: right;\">       1</td><td style=\"text-align: right;\">               2</td><td style=\"text-align: right;\">         3</td><td style=\"text-align: right;\">                1</td><td style=\"text-align: right;\">              1</td><td style=\"text-align: right;\">           7587</td><td style=\"text-align: right;\">                   1</td><td style=\"text-align: right;\">         0</td><td style=\"text-align: right;\">                 15</td><td style=\"text-align: right;\">                  3</td><td style=\"text-align: right;\">                         2</td><td style=\"text-align: right;\">                 0</td><td style=\"text-align: right;\">                 10</td><td style=\"text-align: right;\">                      1</td><td style=\"text-align: right;\">                3</td><td style=\"text-align: right;\">              10</td><td style=\"text-align: right;\">                   7</td><td style=\"text-align: right;\">                        0</td><td style=\"text-align: right;\">                     9</td><td style=\"text-align: right;\">                    0</td><td style=\"text-align: right;\">                            0</td><td style=\"text-align: right;\">           1</td><td style=\"text-align: right;\">                               0</td><td style=\"text-align: right;\">                             1</td><td style=\"text-align: right;\">                         0</td><td style=\"text-align: right;\">                       0</td><td style=\"text-align: right;\">                     0</td><td style=\"text-align: right;\">                                0</td><td style=\"text-align: right;\">                          0</td><td style=\"text-align: right;\">                0</td><td style=\"text-align: right;\">                      0</td><td style=\"text-align: right;\">        0</td><td style=\"text-align: right;\">                       0</td><td style=\"text-align: right;\">                  0</td><td style=\"text-align: right;\">                   0</td><td style=\"text-align: right;\">                1</td><td style=\"text-align: right;\">                     0</td></tr>\n",
              "<tr><td style=\"text-align: right;\">   25</td><td style=\"text-align: right;\">          1</td><td style=\"text-align: right;\">               3</td><td style=\"text-align: right;\">                24</td><td style=\"text-align: right;\">          1</td><td style=\"text-align: right;\">                        3</td><td style=\"text-align: right;\">       1</td><td style=\"text-align: right;\">               1</td><td style=\"text-align: right;\">         1</td><td style=\"text-align: right;\">                4</td><td style=\"text-align: right;\">              1</td><td style=\"text-align: right;\">           1118</td><td style=\"text-align: right;\">                   1</td><td style=\"text-align: right;\">         1</td><td style=\"text-align: right;\">                 14</td><td style=\"text-align: right;\">                  3</td><td style=\"text-align: right;\">                         4</td><td style=\"text-align: right;\">                 0</td><td style=\"text-align: right;\">                  1</td><td style=\"text-align: right;\">                      4</td><td style=\"text-align: right;\">                3</td><td style=\"text-align: right;\">               1</td><td style=\"text-align: right;\">                   0</td><td style=\"text-align: right;\">                        1</td><td style=\"text-align: right;\">                     0</td><td style=\"text-align: right;\">                    0</td><td style=\"text-align: right;\">                            0</td><td style=\"text-align: right;\">           1</td><td style=\"text-align: right;\">                               0</td><td style=\"text-align: right;\">                             1</td><td style=\"text-align: right;\">                         0</td><td style=\"text-align: right;\">                       0</td><td style=\"text-align: right;\">                     0</td><td style=\"text-align: right;\">                                0</td><td style=\"text-align: right;\">                          0</td><td style=\"text-align: right;\">                0</td><td style=\"text-align: right;\">                      0</td><td style=\"text-align: right;\">        0</td><td style=\"text-align: right;\">                       0</td><td style=\"text-align: right;\">                  0</td><td style=\"text-align: right;\">                   0</td><td style=\"text-align: right;\">                0</td><td style=\"text-align: right;\">                     1</td></tr>\n",
              "<tr><td style=\"text-align: right;\">   52</td><td style=\"text-align: right;\">          0</td><td style=\"text-align: right;\">               2</td><td style=\"text-align: right;\">                 4</td><td style=\"text-align: right;\">          2</td><td style=\"text-align: right;\">                        4</td><td style=\"text-align: right;\">       0</td><td style=\"text-align: right;\">               3</td><td style=\"text-align: right;\">         4</td><td style=\"text-align: right;\">                4</td><td style=\"text-align: right;\">              3</td><td style=\"text-align: right;\">          16555</td><td style=\"text-align: right;\">                   2</td><td style=\"text-align: right;\">         0</td><td style=\"text-align: right;\">                 13</td><td style=\"text-align: right;\">                  3</td><td style=\"text-align: right;\">                         4</td><td style=\"text-align: right;\">                 0</td><td style=\"text-align: right;\">                 31</td><td style=\"text-align: right;\">                      2</td><td style=\"text-align: right;\">                1</td><td style=\"text-align: right;\">               5</td><td style=\"text-align: right;\">                   2</td><td style=\"text-align: right;\">                        1</td><td style=\"text-align: right;\">                     4</td><td style=\"text-align: right;\">                    0</td><td style=\"text-align: right;\">                            1</td><td style=\"text-align: right;\">           0</td><td style=\"text-align: right;\">                               0</td><td style=\"text-align: right;\">                             1</td><td style=\"text-align: right;\">                         0</td><td style=\"text-align: right;\">                       0</td><td style=\"text-align: right;\">                     0</td><td style=\"text-align: right;\">                                0</td><td style=\"text-align: right;\">                          0</td><td style=\"text-align: right;\">                0</td><td style=\"text-align: right;\">                      0</td><td style=\"text-align: right;\">        1</td><td style=\"text-align: right;\">                       0</td><td style=\"text-align: right;\">                  0</td><td style=\"text-align: right;\">                   0</td><td style=\"text-align: right;\">                0</td><td style=\"text-align: right;\">                     0</td></tr>\n",
              "<tr><td style=\"text-align: right;\">   47</td><td style=\"text-align: right;\">          0</td><td style=\"text-align: right;\">               2</td><td style=\"text-align: right;\">                 9</td><td style=\"text-align: right;\">          4</td><td style=\"text-align: right;\">                        2</td><td style=\"text-align: right;\">       0</td><td style=\"text-align: right;\">               3</td><td style=\"text-align: right;\">         1</td><td style=\"text-align: right;\">                3</td><td style=\"text-align: right;\">              1</td><td style=\"text-align: right;\">           2105</td><td style=\"text-align: right;\">                   4</td><td style=\"text-align: right;\">         0</td><td style=\"text-align: right;\">                 12</td><td style=\"text-align: right;\">                  3</td><td style=\"text-align: right;\">                         3</td><td style=\"text-align: right;\">                 0</td><td style=\"text-align: right;\">                  7</td><td style=\"text-align: right;\">                      2</td><td style=\"text-align: right;\">                3</td><td style=\"text-align: right;\">               2</td><td style=\"text-align: right;\">                   2</td><td style=\"text-align: right;\">                        2</td><td style=\"text-align: right;\">                     0</td><td style=\"text-align: right;\">                    0</td><td style=\"text-align: right;\">                            1</td><td style=\"text-align: right;\">           0</td><td style=\"text-align: right;\">                               0</td><td style=\"text-align: right;\">                             1</td><td style=\"text-align: right;\">                         0</td><td style=\"text-align: right;\">                       0</td><td style=\"text-align: right;\">                     0</td><td style=\"text-align: right;\">                                0</td><td style=\"text-align: right;\">                          0</td><td style=\"text-align: right;\">                0</td><td style=\"text-align: right;\">                      1</td><td style=\"text-align: right;\">        0</td><td style=\"text-align: right;\">                       0</td><td style=\"text-align: right;\">                  0</td><td style=\"text-align: right;\">                   0</td><td style=\"text-align: right;\">                0</td><td style=\"text-align: right;\">                     0</td></tr>\n",
              "<tr><td style=\"text-align: right;\">   26</td><td style=\"text-align: right;\">          0</td><td style=\"text-align: right;\">               2</td><td style=\"text-align: right;\">                17</td><td style=\"text-align: right;\">          4</td><td style=\"text-align: right;\">                        4</td><td style=\"text-align: right;\">       1</td><td style=\"text-align: right;\">               1</td><td style=\"text-align: right;\">         1</td><td style=\"text-align: right;\">                3</td><td style=\"text-align: right;\">              3</td><td style=\"text-align: right;\">           2305</td><td style=\"text-align: right;\">                   1</td><td style=\"text-align: right;\">         0</td><td style=\"text-align: right;\">                 15</td><td style=\"text-align: right;\">                  3</td><td style=\"text-align: right;\">                         3</td><td style=\"text-align: right;\">                 3</td><td style=\"text-align: right;\">                  3</td><td style=\"text-align: right;\">                      3</td><td style=\"text-align: right;\">                4</td><td style=\"text-align: right;\">               3</td><td style=\"text-align: right;\">                   2</td><td style=\"text-align: right;\">                        0</td><td style=\"text-align: right;\">                     2</td><td style=\"text-align: right;\">                    0</td><td style=\"text-align: right;\">                            1</td><td style=\"text-align: right;\">           0</td><td style=\"text-align: right;\">                               0</td><td style=\"text-align: right;\">                             0</td><td style=\"text-align: right;\">                         0</td><td style=\"text-align: right;\">                       1</td><td style=\"text-align: right;\">                     0</td><td style=\"text-align: right;\">                                0</td><td style=\"text-align: right;\">                          0</td><td style=\"text-align: right;\">                0</td><td style=\"text-align: right;\">                      1</td><td style=\"text-align: right;\">        0</td><td style=\"text-align: right;\">                       0</td><td style=\"text-align: right;\">                  0</td><td style=\"text-align: right;\">                   0</td><td style=\"text-align: right;\">                0</td><td style=\"text-align: right;\">                     0</td></tr>\n",
              "<tr><td style=\"text-align: right;\">   24</td><td style=\"text-align: right;\">          0</td><td style=\"text-align: right;\">               1</td><td style=\"text-align: right;\">                13</td><td style=\"text-align: right;\">          2</td><td style=\"text-align: right;\">                        4</td><td style=\"text-align: right;\">       0</td><td style=\"text-align: right;\">               3</td><td style=\"text-align: right;\">         1</td><td style=\"text-align: right;\">                2</td><td style=\"text-align: right;\">              3</td><td style=\"text-align: right;\">           2033</td><td style=\"text-align: right;\">                   1</td><td style=\"text-align: right;\">         0</td><td style=\"text-align: right;\">                 13</td><td style=\"text-align: right;\">                  3</td><td style=\"text-align: right;\">                         3</td><td style=\"text-align: right;\">                 1</td><td style=\"text-align: right;\">                  1</td><td style=\"text-align: right;\">                      2</td><td style=\"text-align: right;\">                3</td><td style=\"text-align: right;\">               1</td><td style=\"text-align: right;\">                   0</td><td style=\"text-align: right;\">                        0</td><td style=\"text-align: right;\">                     0</td><td style=\"text-align: right;\">                    0</td><td style=\"text-align: right;\">                            0</td><td style=\"text-align: right;\">           1</td><td style=\"text-align: right;\">                               0</td><td style=\"text-align: right;\">                             1</td><td style=\"text-align: right;\">                         0</td><td style=\"text-align: right;\">                       0</td><td style=\"text-align: right;\">                     0</td><td style=\"text-align: right;\">                                0</td><td style=\"text-align: right;\">                          0</td><td style=\"text-align: right;\">                0</td><td style=\"text-align: right;\">                      0</td><td style=\"text-align: right;\">        0</td><td style=\"text-align: right;\">                       0</td><td style=\"text-align: right;\">                  0</td><td style=\"text-align: right;\">                   0</td><td style=\"text-align: right;\">                0</td><td style=\"text-align: right;\">                     1</td></tr>\n",
              "<tr><td style=\"text-align: right;\">   27</td><td style=\"text-align: right;\">          0</td><td style=\"text-align: right;\">               2</td><td style=\"text-align: right;\">                 1</td><td style=\"text-align: right;\">          2</td><td style=\"text-align: right;\">                        3</td><td style=\"text-align: right;\">       0</td><td style=\"text-align: right;\">               3</td><td style=\"text-align: right;\">         3</td><td style=\"text-align: right;\">                1</td><td style=\"text-align: right;\">              3</td><td style=\"text-align: right;\">           7412</td><td style=\"text-align: right;\">                   1</td><td style=\"text-align: right;\">         0</td><td style=\"text-align: right;\">                 11</td><td style=\"text-align: right;\">                  3</td><td style=\"text-align: right;\">                         4</td><td style=\"text-align: right;\">                 0</td><td style=\"text-align: right;\">                  9</td><td style=\"text-align: right;\">                      3</td><td style=\"text-align: right;\">                3</td><td style=\"text-align: right;\">               9</td><td style=\"text-align: right;\">                   7</td><td style=\"text-align: right;\">                        0</td><td style=\"text-align: right;\">                     7</td><td style=\"text-align: right;\">                    0</td><td style=\"text-align: right;\">                            1</td><td style=\"text-align: right;\">           0</td><td style=\"text-align: right;\">                               0</td><td style=\"text-align: right;\">                             1</td><td style=\"text-align: right;\">                         0</td><td style=\"text-align: right;\">                       0</td><td style=\"text-align: right;\">                     0</td><td style=\"text-align: right;\">                                0</td><td style=\"text-align: right;\">                          0</td><td style=\"text-align: right;\">                0</td><td style=\"text-align: right;\">                      0</td><td style=\"text-align: right;\">        0</td><td style=\"text-align: right;\">                       1</td><td style=\"text-align: right;\">                  0</td><td style=\"text-align: right;\">                   0</td><td style=\"text-align: right;\">                0</td><td style=\"text-align: right;\">                     0</td></tr>\n",
              "</tbody>\n",
              "</table>"
            ]
          },
          "metadata": {
            "tags": []
          }
        },
        {
          "output_type": "execute_result",
          "data": {
            "text/plain": [
              ""
            ]
          },
          "metadata": {
            "tags": []
          },
          "execution_count": 51
        }
      ]
    },
    {
      "cell_type": "code",
      "metadata": {
        "id": "KEHteAWjyclv"
      },
      "source": [
        "x = train.columns\n",
        "y = \"Attrition\"\n",
        "x.remove(y)"
      ],
      "execution_count": 52,
      "outputs": []
    },
    {
      "cell_type": "code",
      "metadata": {
        "id": "GI4d8ut1ynTz"
      },
      "source": [
        "train[y] = train[y].asfactor()\n",
        "test[y] = test[y].asfactor()"
      ],
      "execution_count": 53,
      "outputs": []
    },
    {
      "cell_type": "code",
      "metadata": {
        "colab": {
          "base_uri": "https://localhost:8080/"
        },
        "id": "8l6AUU1kyxxl",
        "outputId": "69fd60f2-4be4-4a1d-a8a0-8ae6c6f50a14"
      },
      "source": [
        "aml = H2OAutoML(max_models=40, seed=1,verbosity=\"info\")\n",
        "aml.train(x=x, y=y, training_frame=train)"
      ],
      "execution_count": 54,
      "outputs": [
        {
          "output_type": "stream",
          "text": [
            "AutoML progress: |\n",
            "09:55:26.685: Project: AutoML_20210319_95526685\n",
            "09:55:26.686: Setting stopping tolerance adaptively based on the training frame: 0.029160592175990215\n",
            "09:55:26.686: Build control seed: 1\n",
            "09:55:26.687: training frame: Frame key: automl_training_py_319_sid_8624    cols: 43    rows: 1176  chunks: 8    size: 57390  checksum: -460652497392515904\n",
            "09:55:26.687: validation frame: NULL\n",
            "09:55:26.687: leaderboard frame: NULL\n",
            "09:55:26.687: blending frame: NULL\n",
            "09:55:26.687: response column: Attrition\n",
            "09:55:26.687: fold column: null\n",
            "09:55:26.687: weights column: null\n",
            "09:55:26.687: Loading execution steps: [{XGBoost : defaults}, {GLM : defaults}, {DRF : [def_1]}, {GBM : defaults}, {DeepLearning : defaults}, {DRF : [XRT]}, {XGBoost : grids}, {GBM : grids}, {DeepLearning : grids}, {GBM : [lr_annealing]}, {XGBoost : [lr_search]}, {StackedEnsemble : defaults}]\n",
            "09:55:26.688: AutoML job created: 2021.03.19 09:55:26.685\n",
            "09:55:26.689: AutoML build started: 2021.03.19 09:55:26.689\n",
            "09:55:26.689: AutoML: starting XGBoost_1_AutoML_20210319_095526 model training\n",
            "\n",
            "█\n",
            "09:55:30.695: New leader: XGBoost_1_AutoML_20210319_095526, auc: 0.8169523645447497\n",
            "09:55:30.695: AutoML: starting XGBoost_2_AutoML_20210319_095526 model training\n",
            "\n",
            "█\n",
            "09:55:33.698: New leader: XGBoost_2_AutoML_20210319_095526, auc: 0.8211086226203808\n",
            "09:55:33.699: AutoML: starting XGBoost_3_AutoML_20210319_095526 model training\n",
            "\n",
            "██\n",
            "09:55:37.704: AutoML: starting GLM_1_AutoML_20210319_095526 model training\n",
            "\n",
            "███\n",
            "09:55:41.712: New leader: GLM_1_AutoML_20210319_095526, auc: 0.8222768972349039\n",
            "09:55:41.713: AutoML: starting DRF_1_AutoML_20210319_095526 model training\n",
            "\n",
            "██\n",
            "09:55:49.723: AutoML: starting GBM_1_AutoML_20210319_095526 model training\n",
            "\n",
            "\n",
            "09:55:53.731: AutoML: starting GBM_2_AutoML_20210319_095526 model training\n",
            "\n",
            "█\n",
            "09:55:57.738: AutoML: starting GBM_3_AutoML_20210319_095526 model training\n",
            "\n",
            "██\n",
            "09:56:01.745: AutoML: starting GBM_4_AutoML_20210319_095526 model training\n",
            "\n",
            "█\n",
            "09:56:06.757: AutoML: starting GBM_5_AutoML_20210319_095526 model training\n",
            "\n",
            "██\n",
            "09:56:11.766: AutoML: starting DeepLearning_1_AutoML_20210319_095526 model training\n",
            "\n",
            "█\n",
            "09:56:13.774: AutoML: starting XRT_1_AutoML_20210319_095526 model training\n",
            "\n",
            "██\n",
            "09:56:19.783: AutoML: starting XGBoost_grid__1_AutoML_20210319_095526 hyperparameter search\n",
            "\n",
            "█\n",
            "09:56:22.801: New leader: XGBoost_grid__1_AutoML_20210319_095526_model_1, auc: 0.8373567921440263\n",
            "\n",
            "█████████\n",
            "09:56:47.122: AutoML: starting GBM_grid__1_AutoML_20210319_095526 hyperparameter search\n",
            "\n",
            "██████████████\n",
            "09:57:21.439: AutoML: starting DeepLearning_grid__1_AutoML_20210319_095526 hyperparameter search\n",
            "\n",
            "█████████████\n",
            "10:16:50.773: AutoML: starting DeepLearning_grid__2_AutoML_20210319_095526 hyperparameter search\n",
            "\n",
            "█\n",
            "11:02:22.695: AutoML: starting DeepLearning_grid__3_AutoML_20210319_095526 hyperparameter search\n",
            "\n",
            "\n",
            "11:19:36.90: AutoML: starting StackedEnsemble_BestOfFamily_AutoML_20210319_095526 model training\n",
            "11:19:37.119: AutoML: starting StackedEnsemble_AllModels_AutoML_20210319_095526 model training\n",
            "\n",
            "\n",
            "11:19:39.147: No base models, due to timeouts or the exclude_algos option. Skipping StackedEnsemble 'monotonic'.\n",
            "11:19:39.147: Actual modeling steps: [{XGBoost : [def_1 (10), def_2 (10), def_3 (10)]}, {GLM : [def_1 (10)]}, {DRF : [def_1 (10)]}, {GBM : [def_1 (10), def_2 (10), def_3 (10), def_4 (10), def_5 (10)]}, {DeepLearning : [def_1 (10)]}, {DRF : [XRT (10)]}, {XGBoost : [grid_1 (100)]}, {GBM : [grid_1 (60)]}, {DeepLearning : [grid_1 (20), grid_2 (20), grid_3 (20)]}, {StackedEnsemble : [best (10), all (10)]}]\n",
            "11:19:39.147: AutoML build stopped: 2021.03.19 11:19:39.147\n",
            "11:19:39.147: AutoML build done: built 42 models\n",
            "11:19:39.147: AutoML duration:  1:24:12.458\n",
            "\n",
            "| 100%\n"
          ],
          "name": "stdout"
        }
      ]
    },
    {
      "cell_type": "code",
      "metadata": {
        "colab": {
          "base_uri": "https://localhost:8080/",
          "height": 878
        },
        "id": "PQUUMqDcytM9",
        "outputId": "93247217-f90d-4208-ad24-65a1f0fab0ea"
      },
      "source": [
        "lb = aml.leaderboard\n",
        "lb.head(rows=lb.nrows)"
      ],
      "execution_count": 55,
      "outputs": [
        {
          "output_type": "display_data",
          "data": {
            "text/html": [
              "<table>\n",
              "<thead>\n",
              "<tr><th>model_id                                           </th><th style=\"text-align: right;\">     auc</th><th style=\"text-align: right;\">  logloss</th><th style=\"text-align: right;\">   aucpr</th><th style=\"text-align: right;\">  mean_per_class_error</th><th style=\"text-align: right;\">    rmse</th><th style=\"text-align: right;\">      mse</th></tr>\n",
              "</thead>\n",
              "<tbody>\n",
              "<tr><td>XGBoost_grid__1_AutoML_20210319_095526_model_1     </td><td style=\"text-align: right;\">0.837357</td><td style=\"text-align: right;\"> 0.319802</td><td style=\"text-align: right;\">0.609676</td><td style=\"text-align: right;\">              0.238802</td><td style=\"text-align: right;\">0.305811</td><td style=\"text-align: right;\">0.0935202</td></tr>\n",
              "<tr><td>StackedEnsemble_BestOfFamily_AutoML_20210319_095526</td><td style=\"text-align: right;\">0.83687 </td><td style=\"text-align: right;\"> 0.301567</td><td style=\"text-align: right;\">0.652458</td><td style=\"text-align: right;\">              0.230209</td><td style=\"text-align: right;\">0.295518</td><td style=\"text-align: right;\">0.0873307</td></tr>\n",
              "<tr><td>StackedEnsemble_AllModels_AutoML_20210319_095526   </td><td style=\"text-align: right;\">0.83056 </td><td style=\"text-align: right;\"> 0.308226</td><td style=\"text-align: right;\">0.636741</td><td style=\"text-align: right;\">              0.229186</td><td style=\"text-align: right;\">0.2994  </td><td style=\"text-align: right;\">0.0896401</td></tr>\n",
              "<tr><td>XGBoost_grid__1_AutoML_20210319_095526_model_9     </td><td style=\"text-align: right;\">0.82997 </td><td style=\"text-align: right;\"> 0.324921</td><td style=\"text-align: right;\">0.606539</td><td style=\"text-align: right;\">              0.256299</td><td style=\"text-align: right;\">0.307198</td><td style=\"text-align: right;\">0.0943706</td></tr>\n",
              "<tr><td>XGBoost_grid__1_AutoML_20210319_095526_model_5     </td><td style=\"text-align: right;\">0.827343</td><td style=\"text-align: right;\"> 0.325788</td><td style=\"text-align: right;\">0.609031</td><td style=\"text-align: right;\">              0.247814</td><td style=\"text-align: right;\">0.306455</td><td style=\"text-align: right;\">0.0939148</td></tr>\n",
              "<tr><td>XGBoost_grid__1_AutoML_20210319_095526_model_3     </td><td style=\"text-align: right;\">0.822915</td><td style=\"text-align: right;\"> 0.328112</td><td style=\"text-align: right;\">0.598294</td><td style=\"text-align: right;\">              0.228271</td><td style=\"text-align: right;\">0.30941 </td><td style=\"text-align: right;\">0.0957348</td></tr>\n",
              "<tr><td>GLM_1_AutoML_20210319_095526                       </td><td style=\"text-align: right;\">0.822277</td><td style=\"text-align: right;\"> 0.330172</td><td style=\"text-align: right;\">0.628944</td><td style=\"text-align: right;\">              0.269102</td><td style=\"text-align: right;\">0.306709</td><td style=\"text-align: right;\">0.0940701</td></tr>\n",
              "<tr><td>XGBoost_2_AutoML_20210319_095526                   </td><td style=\"text-align: right;\">0.821109</td><td style=\"text-align: right;\"> 0.328804</td><td style=\"text-align: right;\">0.589495</td><td style=\"text-align: right;\">              0.272386</td><td style=\"text-align: right;\">0.310017</td><td style=\"text-align: right;\">0.0961104</td></tr>\n",
              "<tr><td>GBM_5_AutoML_20210319_095526                       </td><td style=\"text-align: right;\">0.821055</td><td style=\"text-align: right;\"> 0.337032</td><td style=\"text-align: right;\">0.5835  </td><td style=\"text-align: right;\">              0.284165</td><td style=\"text-align: right;\">0.316216</td><td style=\"text-align: right;\">0.0999924</td></tr>\n",
              "<tr><td>GBM_grid__1_AutoML_20210319_095526_model_1         </td><td style=\"text-align: right;\">0.820527</td><td style=\"text-align: right;\"> 0.340547</td><td style=\"text-align: right;\">0.550585</td><td style=\"text-align: right;\">              0.270857</td><td style=\"text-align: right;\">0.318563</td><td style=\"text-align: right;\">0.101483 </td></tr>\n",
              "<tr><td>XGBoost_grid__1_AutoML_20210319_095526_model_10    </td><td style=\"text-align: right;\">0.819685</td><td style=\"text-align: right;\"> 0.335535</td><td style=\"text-align: right;\">0.5676  </td><td style=\"text-align: right;\">              0.261984</td><td style=\"text-align: right;\">0.31489 </td><td style=\"text-align: right;\">0.0991559</td></tr>\n",
              "<tr><td>GBM_grid__1_AutoML_20210319_095526_model_2         </td><td style=\"text-align: right;\">0.818686</td><td style=\"text-align: right;\"> 0.333837</td><td style=\"text-align: right;\">0.583345</td><td style=\"text-align: right;\">              0.288095</td><td style=\"text-align: right;\">0.314587</td><td style=\"text-align: right;\">0.0989652</td></tr>\n",
              "<tr><td>GBM_grid__1_AutoML_20210319_095526_model_7         </td><td style=\"text-align: right;\">0.817499</td><td style=\"text-align: right;\"> 0.339303</td><td style=\"text-align: right;\">0.578365</td><td style=\"text-align: right;\">              0.272623</td><td style=\"text-align: right;\">0.318606</td><td style=\"text-align: right;\">0.10151  </td></tr>\n",
              "<tr><td>XGBoost_3_AutoML_20210319_095526                   </td><td style=\"text-align: right;\">0.817243</td><td style=\"text-align: right;\"> 0.343133</td><td style=\"text-align: right;\">0.576583</td><td style=\"text-align: right;\">              0.239663</td><td style=\"text-align: right;\">0.313082</td><td style=\"text-align: right;\">0.0980204</td></tr>\n",
              "<tr><td>XGBoost_1_AutoML_20210319_095526                   </td><td style=\"text-align: right;\">0.816952</td><td style=\"text-align: right;\"> 0.33673 </td><td style=\"text-align: right;\">0.584532</td><td style=\"text-align: right;\">              0.245381</td><td style=\"text-align: right;\">0.312156</td><td style=\"text-align: right;\">0.0974412</td></tr>\n",
              "<tr><td>XGBoost_grid__1_AutoML_20210319_095526_model_11    </td><td style=\"text-align: right;\">0.815224</td><td style=\"text-align: right;\"> 0.333925</td><td style=\"text-align: right;\">0.585591</td><td style=\"text-align: right;\">              0.238145</td><td style=\"text-align: right;\">0.312637</td><td style=\"text-align: right;\">0.0977422</td></tr>\n",
              "<tr><td>XGBoost_grid__1_AutoML_20210319_095526_model_7     </td><td style=\"text-align: right;\">0.814791</td><td style=\"text-align: right;\"> 0.343491</td><td style=\"text-align: right;\">0.560935</td><td style=\"text-align: right;\">              0.281118</td><td style=\"text-align: right;\">0.320508</td><td style=\"text-align: right;\">0.102725 </td></tr>\n",
              "<tr><td>GBM_grid__1_AutoML_20210319_095526_model_5         </td><td style=\"text-align: right;\">0.813283</td><td style=\"text-align: right;\"> 0.344926</td><td style=\"text-align: right;\">0.573433</td><td style=\"text-align: right;\">              0.284531</td><td style=\"text-align: right;\">0.321264</td><td style=\"text-align: right;\">0.103211 </td></tr>\n",
              "<tr><td>GBM_grid__1_AutoML_20210319_095526_model_6         </td><td style=\"text-align: right;\">0.812812</td><td style=\"text-align: right;\"> 0.363997</td><td style=\"text-align: right;\">0.526772</td><td style=\"text-align: right;\">              0.274012</td><td style=\"text-align: right;\">0.328888</td><td style=\"text-align: right;\">0.108167 </td></tr>\n",
              "<tr><td>GBM_2_AutoML_20210319_095526                       </td><td style=\"text-align: right;\">0.812484</td><td style=\"text-align: right;\"> 0.344781</td><td style=\"text-align: right;\">0.533989</td><td style=\"text-align: right;\">              0.270964</td><td style=\"text-align: right;\">0.321447</td><td style=\"text-align: right;\">0.103328 </td></tr>\n",
              "<tr><td>XGBoost_grid__1_AutoML_20210319_095526_model_4     </td><td style=\"text-align: right;\">0.809135</td><td style=\"text-align: right;\"> 0.346493</td><td style=\"text-align: right;\">0.562634</td><td style=\"text-align: right;\">              0.24158 </td><td style=\"text-align: right;\">0.315591</td><td style=\"text-align: right;\">0.0995976</td></tr>\n",
              "<tr><td>DeepLearning_1_AutoML_20210319_095526              </td><td style=\"text-align: right;\">0.808508</td><td style=\"text-align: right;\"> 0.353982</td><td style=\"text-align: right;\">0.516117</td><td style=\"text-align: right;\">              0.267777</td><td style=\"text-align: right;\">0.325862</td><td style=\"text-align: right;\">0.106186 </td></tr>\n",
              "<tr><td>GBM_4_AutoML_20210319_095526                       </td><td style=\"text-align: right;\">0.80513 </td><td style=\"text-align: right;\"> 0.353018</td><td style=\"text-align: right;\">0.520182</td><td style=\"text-align: right;\">              0.261327</td><td style=\"text-align: right;\">0.323711</td><td style=\"text-align: right;\">0.104789 </td></tr>\n",
              "<tr><td>XGBoost_grid__1_AutoML_20210319_095526_model_6     </td><td style=\"text-align: right;\">0.804659</td><td style=\"text-align: right;\"> 0.349172</td><td style=\"text-align: right;\">0.553538</td><td style=\"text-align: right;\">              0.274787</td><td style=\"text-align: right;\">0.323035</td><td style=\"text-align: right;\">0.104352 </td></tr>\n",
              "<tr><td>GBM_grid__1_AutoML_20210319_095526_model_8         </td><td style=\"text-align: right;\">0.801714</td><td style=\"text-align: right;\"> 0.344113</td><td style=\"text-align: right;\">0.530272</td><td style=\"text-align: right;\">              0.273258</td><td style=\"text-align: right;\">0.32025 </td><td style=\"text-align: right;\">0.10256  </td></tr>\n",
              "<tr><td>GBM_3_AutoML_20210319_095526                       </td><td style=\"text-align: right;\">0.798677</td><td style=\"text-align: right;\"> 0.355755</td><td style=\"text-align: right;\">0.517331</td><td style=\"text-align: right;\">              0.293135</td><td style=\"text-align: right;\">0.325493</td><td style=\"text-align: right;\">0.105946 </td></tr>\n",
              "<tr><td>DeepLearning_grid__2_AutoML_20210319_095526_model_3</td><td style=\"text-align: right;\">0.798144</td><td style=\"text-align: right;\"> 0.371371</td><td style=\"text-align: right;\">0.567869</td><td style=\"text-align: right;\">              0.279718</td><td style=\"text-align: right;\">0.323055</td><td style=\"text-align: right;\">0.104364 </td></tr>\n",
              "<tr><td>XGBoost_grid__1_AutoML_20210319_095526_model_2     </td><td style=\"text-align: right;\">0.796058</td><td style=\"text-align: right;\"> 0.356521</td><td style=\"text-align: right;\">0.521183</td><td style=\"text-align: right;\">              0.276919</td><td style=\"text-align: right;\">0.327474</td><td style=\"text-align: right;\">0.107239 </td></tr>\n",
              "<tr><td>GBM_1_AutoML_20210319_095526                       </td><td style=\"text-align: right;\">0.793958</td><td style=\"text-align: right;\"> 0.364439</td><td style=\"text-align: right;\">0.498575</td><td style=\"text-align: right;\">              0.265107</td><td style=\"text-align: right;\">0.330074</td><td style=\"text-align: right;\">0.108949 </td></tr>\n",
              "<tr><td>DeepLearning_grid__1_AutoML_20210319_095526_model_3</td><td style=\"text-align: right;\">0.793789</td><td style=\"text-align: right;\"> 0.413645</td><td style=\"text-align: right;\">0.567324</td><td style=\"text-align: right;\">              0.28493 </td><td style=\"text-align: right;\">0.323808</td><td style=\"text-align: right;\">0.104852 </td></tr>\n",
              "<tr><td>DRF_1_AutoML_20210319_095526                       </td><td style=\"text-align: right;\">0.79311 </td><td style=\"text-align: right;\"> 0.435669</td><td style=\"text-align: right;\">0.502353</td><td style=\"text-align: right;\">              0.289463</td><td style=\"text-align: right;\">0.327254</td><td style=\"text-align: right;\">0.107095 </td></tr>\n",
              "<tr><td>GBM_grid__1_AutoML_20210319_095526_model_4         </td><td style=\"text-align: right;\">0.792047</td><td style=\"text-align: right;\"> 0.407707</td><td style=\"text-align: right;\">0.49466 </td><td style=\"text-align: right;\">              0.287029</td><td style=\"text-align: right;\">0.339844</td><td style=\"text-align: right;\">0.115494 </td></tr>\n",
              "<tr><td>DeepLearning_grid__2_AutoML_20210319_095526_model_2</td><td style=\"text-align: right;\">0.790987</td><td style=\"text-align: right;\"> 0.365051</td><td style=\"text-align: right;\">0.566667</td><td style=\"text-align: right;\">              0.278082</td><td style=\"text-align: right;\">0.318448</td><td style=\"text-align: right;\">0.101409 </td></tr>\n",
              "<tr><td>GBM_grid__1_AutoML_20210319_095526_model_3         </td><td style=\"text-align: right;\">0.789501</td><td style=\"text-align: right;\"> 0.372282</td><td style=\"text-align: right;\">0.489416</td><td style=\"text-align: right;\">              0.268542</td><td style=\"text-align: right;\">0.332732</td><td style=\"text-align: right;\">0.110711 </td></tr>\n",
              "<tr><td>DeepLearning_grid__3_AutoML_20210319_095526_model_2</td><td style=\"text-align: right;\">0.786798</td><td style=\"text-align: right;\"> 0.528698</td><td style=\"text-align: right;\">0.535956</td><td style=\"text-align: right;\">              0.271341</td><td style=\"text-align: right;\">0.361459</td><td style=\"text-align: right;\">0.130653 </td></tr>\n",
              "<tr><td>GBM_grid__1_AutoML_20210319_095526_model_9         </td><td style=\"text-align: right;\">0.784214</td><td style=\"text-align: right;\"> 0.418765</td><td style=\"text-align: right;\">0.459828</td><td style=\"text-align: right;\">              0.26179 </td><td style=\"text-align: right;\">0.347713</td><td style=\"text-align: right;\">0.120904 </td></tr>\n",
              "<tr><td>XGBoost_grid__1_AutoML_20210319_095526_model_8     </td><td style=\"text-align: right;\">0.783869</td><td style=\"text-align: right;\"> 0.362695</td><td style=\"text-align: right;\">0.514826</td><td style=\"text-align: right;\">              0.278685</td><td style=\"text-align: right;\">0.330354</td><td style=\"text-align: right;\">0.109134 </td></tr>\n",
              "<tr><td>DeepLearning_grid__1_AutoML_20210319_095526_model_1</td><td style=\"text-align: right;\">0.774711</td><td style=\"text-align: right;\"> 0.538281</td><td style=\"text-align: right;\">0.485766</td><td style=\"text-align: right;\">              0.285877</td><td style=\"text-align: right;\">0.354518</td><td style=\"text-align: right;\">0.125683 </td></tr>\n",
              "<tr><td>XRT_1_AutoML_20210319_095526                       </td><td style=\"text-align: right;\">0.77318 </td><td style=\"text-align: right;\"> 0.374743</td><td style=\"text-align: right;\">0.434802</td><td style=\"text-align: right;\">              0.291207</td><td style=\"text-align: right;\">0.336817</td><td style=\"text-align: right;\">0.113446 </td></tr>\n",
              "<tr><td>DeepLearning_grid__2_AutoML_20210319_095526_model_1</td><td style=\"text-align: right;\">0.765871</td><td style=\"text-align: right;\"> 0.674076</td><td style=\"text-align: right;\">0.487621</td><td style=\"text-align: right;\">              0.290087</td><td style=\"text-align: right;\">0.381637</td><td style=\"text-align: right;\">0.145647 </td></tr>\n",
              "<tr><td>DeepLearning_grid__1_AutoML_20210319_095526_model_2</td><td style=\"text-align: right;\">0.762811</td><td style=\"text-align: right;\"> 0.530851</td><td style=\"text-align: right;\">0.497177</td><td style=\"text-align: right;\">              0.30668 </td><td style=\"text-align: right;\">0.348229</td><td style=\"text-align: right;\">0.121263 </td></tr>\n",
              "<tr><td>DeepLearning_grid__3_AutoML_20210319_095526_model_1</td><td style=\"text-align: right;\">0.74018 </td><td style=\"text-align: right;\"> 0.547157</td><td style=\"text-align: right;\">0.45843 </td><td style=\"text-align: right;\">              0.322272</td><td style=\"text-align: right;\">0.345818</td><td style=\"text-align: right;\">0.11959  </td></tr>\n",
              "</tbody>\n",
              "</table>"
            ]
          },
          "metadata": {
            "tags": []
          }
        },
        {
          "output_type": "execute_result",
          "data": {
            "text/plain": [
              ""
            ]
          },
          "metadata": {
            "tags": []
          },
          "execution_count": 55
        }
      ]
    },
    {
      "cell_type": "code",
      "metadata": {
        "colab": {
          "base_uri": "https://localhost:8080/"
        },
        "id": "UQJ20GMVywAq",
        "outputId": "1300dc59-1df8-444a-816d-97f60c527b0f"
      },
      "source": [
        "preds = aml.predict(test)"
      ],
      "execution_count": 56,
      "outputs": [
        {
          "output_type": "stream",
          "text": [
            "xgboost prediction progress: |████████████████████████████████████████████| 100%\n"
          ],
          "name": "stdout"
        }
      ]
    },
    {
      "cell_type": "code",
      "metadata": {
        "colab": {
          "base_uri": "https://localhost:8080/",
          "height": 238
        },
        "id": "d1bzmE-Y33uE",
        "outputId": "ba38a45f-1f4c-4a4b-ca06-eb0b30c6292b"
      },
      "source": [
        "preds"
      ],
      "execution_count": 57,
      "outputs": [
        {
          "output_type": "display_data",
          "data": {
            "text/html": [
              "<table>\n",
              "<thead>\n",
              "<tr><th style=\"text-align: right;\">  predict</th><th style=\"text-align: right;\">      p0</th><th style=\"text-align: right;\">       p1</th></tr>\n",
              "</thead>\n",
              "<tbody>\n",
              "<tr><td style=\"text-align: right;\">        0</td><td style=\"text-align: right;\">0.89694 </td><td style=\"text-align: right;\">0.10306  </td></tr>\n",
              "<tr><td style=\"text-align: right;\">        0</td><td style=\"text-align: right;\">0.986282</td><td style=\"text-align: right;\">0.0137178</td></tr>\n",
              "<tr><td style=\"text-align: right;\">        0</td><td style=\"text-align: right;\">0.833979</td><td style=\"text-align: right;\">0.166021 </td></tr>\n",
              "<tr><td style=\"text-align: right;\">        0</td><td style=\"text-align: right;\">0.875962</td><td style=\"text-align: right;\">0.124038 </td></tr>\n",
              "<tr><td style=\"text-align: right;\">        1</td><td style=\"text-align: right;\">0.10384 </td><td style=\"text-align: right;\">0.89616  </td></tr>\n",
              "<tr><td style=\"text-align: right;\">        0</td><td style=\"text-align: right;\">0.741298</td><td style=\"text-align: right;\">0.258702 </td></tr>\n",
              "<tr><td style=\"text-align: right;\">        1</td><td style=\"text-align: right;\">0.608974</td><td style=\"text-align: right;\">0.391026 </td></tr>\n",
              "<tr><td style=\"text-align: right;\">        0</td><td style=\"text-align: right;\">0.870364</td><td style=\"text-align: right;\">0.129636 </td></tr>\n",
              "<tr><td style=\"text-align: right;\">        0</td><td style=\"text-align: right;\">0.988332</td><td style=\"text-align: right;\">0.0116679</td></tr>\n",
              "<tr><td style=\"text-align: right;\">        0</td><td style=\"text-align: right;\">0.840359</td><td style=\"text-align: right;\">0.159641 </td></tr>\n",
              "</tbody>\n",
              "</table>"
            ]
          },
          "metadata": {
            "tags": []
          }
        },
        {
          "output_type": "execute_result",
          "data": {
            "text/plain": [
              ""
            ]
          },
          "metadata": {
            "tags": []
          },
          "execution_count": 57
        }
      ]
    },
    {
      "cell_type": "code",
      "metadata": {
        "colab": {
          "base_uri": "https://localhost:8080/",
          "height": 292
        },
        "id": "RZ_eRKXg36bU",
        "outputId": "572de759-43dd-45e1-db2e-82bb3ee68078"
      },
      "source": [
        "test"
      ],
      "execution_count": 58,
      "outputs": [
        {
          "output_type": "display_data",
          "data": {
            "text/html": [
              "<table>\n",
              "<thead>\n",
              "<tr><th style=\"text-align: right;\">  Age</th><th style=\"text-align: right;\">  Attrition</th><th style=\"text-align: right;\">  BusinessTravel</th><th style=\"text-align: right;\">  DistanceFromHome</th><th style=\"text-align: right;\">  Education</th><th style=\"text-align: right;\">  EnvironmentSatisfaction</th><th style=\"text-align: right;\">  Gender</th><th style=\"text-align: right;\">  JobInvolvement</th><th style=\"text-align: right;\">  JobLevel</th><th style=\"text-align: right;\">  JobSatisfaction</th><th style=\"text-align: right;\">  MaritalStatus</th><th style=\"text-align: right;\">  MonthlyIncome</th><th style=\"text-align: right;\">  NumCompaniesWorked</th><th style=\"text-align: right;\">  OverTime</th><th style=\"text-align: right;\">  PercentSalaryHike</th><th style=\"text-align: right;\">  PerformanceRating</th><th style=\"text-align: right;\">  RelationshipSatisfaction</th><th style=\"text-align: right;\">  StockOptionLevel</th><th style=\"text-align: right;\">  TotalWorkingYears</th><th style=\"text-align: right;\">  TrainingTimesLastYear</th><th style=\"text-align: right;\">  WorkLifeBalance</th><th style=\"text-align: right;\">  YearsAtCompany</th><th style=\"text-align: right;\">  YearsInCurrentRole</th><th style=\"text-align: right;\">  YearsSinceLastPromotion</th><th style=\"text-align: right;\">  YearsWithCurrManager</th><th style=\"text-align: right;\">  Dept-Human Resouces</th><th style=\"text-align: right;\">  Dept-Research &amp; Development</th><th style=\"text-align: right;\">  Dept-Sales</th><th style=\"text-align: right;\">  EducationField-Human Resources</th><th style=\"text-align: right;\">  EducationField-Life Sciences</th><th style=\"text-align: right;\">  EducationField-Marketing</th><th style=\"text-align: right;\">  EducationField-Medical</th><th style=\"text-align: right;\">  EducationField-Other</th><th style=\"text-align: right;\">  EducationField-Technical Degree</th><th style=\"text-align: right;\">  Healthcare Representative</th><th style=\"text-align: right;\">  Human Resources</th><th style=\"text-align: right;\">  Laboratory Technician</th><th style=\"text-align: right;\">  Manager</th><th style=\"text-align: right;\">  Manufacturing Director</th><th style=\"text-align: right;\">  Research Director</th><th style=\"text-align: right;\">  Research Scientist</th><th style=\"text-align: right;\">  Sales Executive</th><th style=\"text-align: right;\">  Sales Representative</th></tr>\n",
              "</thead>\n",
              "<tbody>\n",
              "<tr><td style=\"text-align: right;\">   36</td><td style=\"text-align: right;\">          0</td><td style=\"text-align: right;\">               1</td><td style=\"text-align: right;\">                10</td><td style=\"text-align: right;\">          4</td><td style=\"text-align: right;\">                        2</td><td style=\"text-align: right;\">       1</td><td style=\"text-align: right;\">               3</td><td style=\"text-align: right;\">         3</td><td style=\"text-align: right;\">                4</td><td style=\"text-align: right;\">              1</td><td style=\"text-align: right;\">           9980</td><td style=\"text-align: right;\">                   1</td><td style=\"text-align: right;\">         0</td><td style=\"text-align: right;\">                 14</td><td style=\"text-align: right;\">                  3</td><td style=\"text-align: right;\">                         4</td><td style=\"text-align: right;\">                 0</td><td style=\"text-align: right;\">                 10</td><td style=\"text-align: right;\">                      3</td><td style=\"text-align: right;\">                2</td><td style=\"text-align: right;\">              10</td><td style=\"text-align: right;\">                   3</td><td style=\"text-align: right;\">                        9</td><td style=\"text-align: right;\">                     7</td><td style=\"text-align: right;\">                    0</td><td style=\"text-align: right;\">                            0</td><td style=\"text-align: right;\">           1</td><td style=\"text-align: right;\">                               0</td><td style=\"text-align: right;\">                             0</td><td style=\"text-align: right;\">                         0</td><td style=\"text-align: right;\">                       1</td><td style=\"text-align: right;\">                     0</td><td style=\"text-align: right;\">                                0</td><td style=\"text-align: right;\">                          0</td><td style=\"text-align: right;\">                0</td><td style=\"text-align: right;\">                      0</td><td style=\"text-align: right;\">        0</td><td style=\"text-align: right;\">                       0</td><td style=\"text-align: right;\">                  0</td><td style=\"text-align: right;\">                   0</td><td style=\"text-align: right;\">                1</td><td style=\"text-align: right;\">                     0</td></tr>\n",
              "<tr><td style=\"text-align: right;\">   33</td><td style=\"text-align: right;\">          0</td><td style=\"text-align: right;\">               2</td><td style=\"text-align: right;\">                25</td><td style=\"text-align: right;\">          3</td><td style=\"text-align: right;\">                        4</td><td style=\"text-align: right;\">       1</td><td style=\"text-align: right;\">               2</td><td style=\"text-align: right;\">         2</td><td style=\"text-align: right;\">                2</td><td style=\"text-align: right;\">              1</td><td style=\"text-align: right;\">           4320</td><td style=\"text-align: right;\">                   1</td><td style=\"text-align: right;\">         0</td><td style=\"text-align: right;\">                 13</td><td style=\"text-align: right;\">                  3</td><td style=\"text-align: right;\">                         4</td><td style=\"text-align: right;\">                 0</td><td style=\"text-align: right;\">                  5</td><td style=\"text-align: right;\">                      2</td><td style=\"text-align: right;\">                3</td><td style=\"text-align: right;\">               5</td><td style=\"text-align: right;\">                   3</td><td style=\"text-align: right;\">                        0</td><td style=\"text-align: right;\">                     2</td><td style=\"text-align: right;\">                    0</td><td style=\"text-align: right;\">                            1</td><td style=\"text-align: right;\">           0</td><td style=\"text-align: right;\">                               0</td><td style=\"text-align: right;\">                             1</td><td style=\"text-align: right;\">                         0</td><td style=\"text-align: right;\">                       0</td><td style=\"text-align: right;\">                     0</td><td style=\"text-align: right;\">                                0</td><td style=\"text-align: right;\">                          0</td><td style=\"text-align: right;\">                0</td><td style=\"text-align: right;\">                      0</td><td style=\"text-align: right;\">        0</td><td style=\"text-align: right;\">                       1</td><td style=\"text-align: right;\">                  0</td><td style=\"text-align: right;\">                   0</td><td style=\"text-align: right;\">                0</td><td style=\"text-align: right;\">                     0</td></tr>\n",
              "<tr><td style=\"text-align: right;\">   35</td><td style=\"text-align: right;\">          1</td><td style=\"text-align: right;\">               3</td><td style=\"text-align: right;\">                18</td><td style=\"text-align: right;\">          4</td><td style=\"text-align: right;\">                        4</td><td style=\"text-align: right;\">       0</td><td style=\"text-align: right;\">               3</td><td style=\"text-align: right;\">         2</td><td style=\"text-align: right;\">                3</td><td style=\"text-align: right;\">              3</td><td style=\"text-align: right;\">           4614</td><td style=\"text-align: right;\">                   0</td><td style=\"text-align: right;\">         1</td><td style=\"text-align: right;\">                 18</td><td style=\"text-align: right;\">                  3</td><td style=\"text-align: right;\">                         3</td><td style=\"text-align: right;\">                 1</td><td style=\"text-align: right;\">                  5</td><td style=\"text-align: right;\">                      0</td><td style=\"text-align: right;\">                2</td><td style=\"text-align: right;\">               4</td><td style=\"text-align: right;\">                   2</td><td style=\"text-align: right;\">                        3</td><td style=\"text-align: right;\">                     2</td><td style=\"text-align: right;\">                    0</td><td style=\"text-align: right;\">                            0</td><td style=\"text-align: right;\">           1</td><td style=\"text-align: right;\">                               0</td><td style=\"text-align: right;\">                             0</td><td style=\"text-align: right;\">                         1</td><td style=\"text-align: right;\">                       0</td><td style=\"text-align: right;\">                     0</td><td style=\"text-align: right;\">                                0</td><td style=\"text-align: right;\">                          0</td><td style=\"text-align: right;\">                0</td><td style=\"text-align: right;\">                      0</td><td style=\"text-align: right;\">        0</td><td style=\"text-align: right;\">                       0</td><td style=\"text-align: right;\">                  0</td><td style=\"text-align: right;\">                   0</td><td style=\"text-align: right;\">                1</td><td style=\"text-align: right;\">                     0</td></tr>\n",
              "<tr><td style=\"text-align: right;\">   40</td><td style=\"text-align: right;\">          0</td><td style=\"text-align: right;\">               2</td><td style=\"text-align: right;\">                20</td><td style=\"text-align: right;\">          4</td><td style=\"text-align: right;\">                        1</td><td style=\"text-align: right;\">       1</td><td style=\"text-align: right;\">               3</td><td style=\"text-align: right;\">         3</td><td style=\"text-align: right;\">                4</td><td style=\"text-align: right;\">              3</td><td style=\"text-align: right;\">          10322</td><td style=\"text-align: right;\">                   4</td><td style=\"text-align: right;\">         0</td><td style=\"text-align: right;\">                 20</td><td style=\"text-align: right;\">                  4</td><td style=\"text-align: right;\">                         4</td><td style=\"text-align: right;\">                 1</td><td style=\"text-align: right;\">                 14</td><td style=\"text-align: right;\">                      6</td><td style=\"text-align: right;\">                3</td><td style=\"text-align: right;\">              11</td><td style=\"text-align: right;\">                  10</td><td style=\"text-align: right;\">                       11</td><td style=\"text-align: right;\">                     1</td><td style=\"text-align: right;\">                    0</td><td style=\"text-align: right;\">                            1</td><td style=\"text-align: right;\">           0</td><td style=\"text-align: right;\">                               0</td><td style=\"text-align: right;\">                             0</td><td style=\"text-align: right;\">                         0</td><td style=\"text-align: right;\">                       0</td><td style=\"text-align: right;\">                     0</td><td style=\"text-align: right;\">                                1</td><td style=\"text-align: right;\">                          1</td><td style=\"text-align: right;\">                0</td><td style=\"text-align: right;\">                      0</td><td style=\"text-align: right;\">        0</td><td style=\"text-align: right;\">                       0</td><td style=\"text-align: right;\">                  0</td><td style=\"text-align: right;\">                   0</td><td style=\"text-align: right;\">                0</td><td style=\"text-align: right;\">                     0</td></tr>\n",
              "<tr><td style=\"text-align: right;\">   29</td><td style=\"text-align: right;\">          1</td><td style=\"text-align: right;\">               3</td><td style=\"text-align: right;\">                24</td><td style=\"text-align: right;\">          2</td><td style=\"text-align: right;\">                        4</td><td style=\"text-align: right;\">       1</td><td style=\"text-align: right;\">               2</td><td style=\"text-align: right;\">         1</td><td style=\"text-align: right;\">                4</td><td style=\"text-align: right;\">              1</td><td style=\"text-align: right;\">           2439</td><td style=\"text-align: right;\">                   1</td><td style=\"text-align: right;\">         1</td><td style=\"text-align: right;\">                 24</td><td style=\"text-align: right;\">                  4</td><td style=\"text-align: right;\">                         2</td><td style=\"text-align: right;\">                 0</td><td style=\"text-align: right;\">                  1</td><td style=\"text-align: right;\">                      3</td><td style=\"text-align: right;\">                2</td><td style=\"text-align: right;\">               1</td><td style=\"text-align: right;\">                   0</td><td style=\"text-align: right;\">                        1</td><td style=\"text-align: right;\">                     0</td><td style=\"text-align: right;\">                    0</td><td style=\"text-align: right;\">                            1</td><td style=\"text-align: right;\">           0</td><td style=\"text-align: right;\">                               0</td><td style=\"text-align: right;\">                             1</td><td style=\"text-align: right;\">                         0</td><td style=\"text-align: right;\">                       0</td><td style=\"text-align: right;\">                     0</td><td style=\"text-align: right;\">                                0</td><td style=\"text-align: right;\">                          0</td><td style=\"text-align: right;\">                0</td><td style=\"text-align: right;\">                      0</td><td style=\"text-align: right;\">        0</td><td style=\"text-align: right;\">                       0</td><td style=\"text-align: right;\">                  0</td><td style=\"text-align: right;\">                   1</td><td style=\"text-align: right;\">                0</td><td style=\"text-align: right;\">                     0</td></tr>\n",
              "<tr><td style=\"text-align: right;\">   30</td><td style=\"text-align: right;\">          0</td><td style=\"text-align: right;\">               3</td><td style=\"text-align: right;\">                 3</td><td style=\"text-align: right;\">          3</td><td style=\"text-align: right;\">                        3</td><td style=\"text-align: right;\">       0</td><td style=\"text-align: right;\">               3</td><td style=\"text-align: right;\">         1</td><td style=\"text-align: right;\">                3</td><td style=\"text-align: right;\">              2</td><td style=\"text-align: right;\">           2083</td><td style=\"text-align: right;\">                   1</td><td style=\"text-align: right;\">         0</td><td style=\"text-align: right;\">                 20</td><td style=\"text-align: right;\">                  4</td><td style=\"text-align: right;\">                         3</td><td style=\"text-align: right;\">                 1</td><td style=\"text-align: right;\">                  1</td><td style=\"text-align: right;\">                      2</td><td style=\"text-align: right;\">                3</td><td style=\"text-align: right;\">               1</td><td style=\"text-align: right;\">                   0</td><td style=\"text-align: right;\">                        0</td><td style=\"text-align: right;\">                     0</td><td style=\"text-align: right;\">                    0</td><td style=\"text-align: right;\">                            1</td><td style=\"text-align: right;\">           0</td><td style=\"text-align: right;\">                               0</td><td style=\"text-align: right;\">                             0</td><td style=\"text-align: right;\">                         0</td><td style=\"text-align: right;\">                       1</td><td style=\"text-align: right;\">                     0</td><td style=\"text-align: right;\">                                0</td><td style=\"text-align: right;\">                          0</td><td style=\"text-align: right;\">                0</td><td style=\"text-align: right;\">                      0</td><td style=\"text-align: right;\">        0</td><td style=\"text-align: right;\">                       0</td><td style=\"text-align: right;\">                  0</td><td style=\"text-align: right;\">                   1</td><td style=\"text-align: right;\">                0</td><td style=\"text-align: right;\">                     0</td></tr>\n",
              "<tr><td style=\"text-align: right;\">   34</td><td style=\"text-align: right;\">          1</td><td style=\"text-align: right;\">               2</td><td style=\"text-align: right;\">                24</td><td style=\"text-align: right;\">          4</td><td style=\"text-align: right;\">                        1</td><td style=\"text-align: right;\">       0</td><td style=\"text-align: right;\">               2</td><td style=\"text-align: right;\">         2</td><td style=\"text-align: right;\">                2</td><td style=\"text-align: right;\">              1</td><td style=\"text-align: right;\">           4599</td><td style=\"text-align: right;\">                   0</td><td style=\"text-align: right;\">         1</td><td style=\"text-align: right;\">                 23</td><td style=\"text-align: right;\">                  4</td><td style=\"text-align: right;\">                         3</td><td style=\"text-align: right;\">                 0</td><td style=\"text-align: right;\">                 16</td><td style=\"text-align: right;\">                      2</td><td style=\"text-align: right;\">                4</td><td style=\"text-align: right;\">              15</td><td style=\"text-align: right;\">                   9</td><td style=\"text-align: right;\">                       10</td><td style=\"text-align: right;\">                    10</td><td style=\"text-align: right;\">                    0</td><td style=\"text-align: right;\">                            0</td><td style=\"text-align: right;\">           1</td><td style=\"text-align: right;\">                               0</td><td style=\"text-align: right;\">                             0</td><td style=\"text-align: right;\">                         0</td><td style=\"text-align: right;\">                       1</td><td style=\"text-align: right;\">                     0</td><td style=\"text-align: right;\">                                0</td><td style=\"text-align: right;\">                          0</td><td style=\"text-align: right;\">                0</td><td style=\"text-align: right;\">                      0</td><td style=\"text-align: right;\">        0</td><td style=\"text-align: right;\">                       0</td><td style=\"text-align: right;\">                  0</td><td style=\"text-align: right;\">                   0</td><td style=\"text-align: right;\">                1</td><td style=\"text-align: right;\">                     0</td></tr>\n",
              "<tr><td style=\"text-align: right;\">   33</td><td style=\"text-align: right;\">          0</td><td style=\"text-align: right;\">               1</td><td style=\"text-align: right;\">                 2</td><td style=\"text-align: right;\">          3</td><td style=\"text-align: right;\">                        4</td><td style=\"text-align: right;\">       0</td><td style=\"text-align: right;\">               3</td><td style=\"text-align: right;\">         2</td><td style=\"text-align: right;\">                2</td><td style=\"text-align: right;\">              1</td><td style=\"text-align: right;\">           5147</td><td style=\"text-align: right;\">                   8</td><td style=\"text-align: right;\">         0</td><td style=\"text-align: right;\">                 15</td><td style=\"text-align: right;\">                  3</td><td style=\"text-align: right;\">                         4</td><td style=\"text-align: right;\">                 0</td><td style=\"text-align: right;\">                 13</td><td style=\"text-align: right;\">                      2</td><td style=\"text-align: right;\">                2</td><td style=\"text-align: right;\">              11</td><td style=\"text-align: right;\">                   7</td><td style=\"text-align: right;\">                        1</td><td style=\"text-align: right;\">                     7</td><td style=\"text-align: right;\">                    0</td><td style=\"text-align: right;\">                            0</td><td style=\"text-align: right;\">           1</td><td style=\"text-align: right;\">                               0</td><td style=\"text-align: right;\">                             0</td><td style=\"text-align: right;\">                         1</td><td style=\"text-align: right;\">                       0</td><td style=\"text-align: right;\">                     0</td><td style=\"text-align: right;\">                                0</td><td style=\"text-align: right;\">                          0</td><td style=\"text-align: right;\">                0</td><td style=\"text-align: right;\">                      0</td><td style=\"text-align: right;\">        0</td><td style=\"text-align: right;\">                       0</td><td style=\"text-align: right;\">                  0</td><td style=\"text-align: right;\">                   0</td><td style=\"text-align: right;\">                1</td><td style=\"text-align: right;\">                     0</td></tr>\n",
              "<tr><td style=\"text-align: right;\">   50</td><td style=\"text-align: right;\">          0</td><td style=\"text-align: right;\">               1</td><td style=\"text-align: right;\">                 1</td><td style=\"text-align: right;\">          3</td><td style=\"text-align: right;\">                        4</td><td style=\"text-align: right;\">       0</td><td style=\"text-align: right;\">               3</td><td style=\"text-align: right;\">         2</td><td style=\"text-align: right;\">                3</td><td style=\"text-align: right;\">              3</td><td style=\"text-align: right;\">           6347</td><td style=\"text-align: right;\">                   0</td><td style=\"text-align: right;\">         0</td><td style=\"text-align: right;\">                 12</td><td style=\"text-align: right;\">                  3</td><td style=\"text-align: right;\">                         1</td><td style=\"text-align: right;\">                 1</td><td style=\"text-align: right;\">                 19</td><td style=\"text-align: right;\">                      3</td><td style=\"text-align: right;\">                3</td><td style=\"text-align: right;\">              18</td><td style=\"text-align: right;\">                   7</td><td style=\"text-align: right;\">                        0</td><td style=\"text-align: right;\">                    13</td><td style=\"text-align: right;\">                    0</td><td style=\"text-align: right;\">                            0</td><td style=\"text-align: right;\">           1</td><td style=\"text-align: right;\">                               0</td><td style=\"text-align: right;\">                             1</td><td style=\"text-align: right;\">                         0</td><td style=\"text-align: right;\">                       0</td><td style=\"text-align: right;\">                     0</td><td style=\"text-align: right;\">                                0</td><td style=\"text-align: right;\">                          0</td><td style=\"text-align: right;\">                0</td><td style=\"text-align: right;\">                      0</td><td style=\"text-align: right;\">        0</td><td style=\"text-align: right;\">                       0</td><td style=\"text-align: right;\">                  0</td><td style=\"text-align: right;\">                   0</td><td style=\"text-align: right;\">                1</td><td style=\"text-align: right;\">                     0</td></tr>\n",
              "<tr><td style=\"text-align: right;\">   56</td><td style=\"text-align: right;\">          1</td><td style=\"text-align: right;\">               2</td><td style=\"text-align: right;\">                14</td><td style=\"text-align: right;\">          4</td><td style=\"text-align: right;\">                        2</td><td style=\"text-align: right;\">       0</td><td style=\"text-align: right;\">               3</td><td style=\"text-align: right;\">         1</td><td style=\"text-align: right;\">                2</td><td style=\"text-align: right;\">              3</td><td style=\"text-align: right;\">           4963</td><td style=\"text-align: right;\">                   9</td><td style=\"text-align: right;\">         1</td><td style=\"text-align: right;\">                 18</td><td style=\"text-align: right;\">                  3</td><td style=\"text-align: right;\">                         1</td><td style=\"text-align: right;\">                 3</td><td style=\"text-align: right;\">                  7</td><td style=\"text-align: right;\">                      2</td><td style=\"text-align: right;\">                3</td><td style=\"text-align: right;\">               5</td><td style=\"text-align: right;\">                   4</td><td style=\"text-align: right;\">                        4</td><td style=\"text-align: right;\">                     3</td><td style=\"text-align: right;\">                    0</td><td style=\"text-align: right;\">                            1</td><td style=\"text-align: right;\">           0</td><td style=\"text-align: right;\">                               0</td><td style=\"text-align: right;\">                             1</td><td style=\"text-align: right;\">                         0</td><td style=\"text-align: right;\">                       0</td><td style=\"text-align: right;\">                     0</td><td style=\"text-align: right;\">                                0</td><td style=\"text-align: right;\">                          0</td><td style=\"text-align: right;\">                0</td><td style=\"text-align: right;\">                      0</td><td style=\"text-align: right;\">        0</td><td style=\"text-align: right;\">                       0</td><td style=\"text-align: right;\">                  0</td><td style=\"text-align: right;\">                   1</td><td style=\"text-align: right;\">                0</td><td style=\"text-align: right;\">                     0</td></tr>\n",
              "</tbody>\n",
              "</table>"
            ]
          },
          "metadata": {
            "tags": []
          }
        },
        {
          "output_type": "execute_result",
          "data": {
            "text/plain": [
              ""
            ]
          },
          "metadata": {
            "tags": []
          },
          "execution_count": 58
        }
      ]
    },
    {
      "cell_type": "code",
      "metadata": {
        "id": "MULfEPja3-Ar"
      },
      "source": [
        "data_as_df = preds.as_data_frame()"
      ],
      "execution_count": 59,
      "outputs": []
    },
    {
      "cell_type": "code",
      "metadata": {
        "id": "ZeDAJE9N4ddj"
      },
      "source": [
        "y_pred=data_as_df.predict\n",
        "y_test=pd.read_csv('test.csv').Attrition"
      ],
      "execution_count": 60,
      "outputs": []
    },
    {
      "cell_type": "code",
      "metadata": {
        "colab": {
          "base_uri": "https://localhost:8080/"
        },
        "id": "YJCKR02d4gKf",
        "outputId": "0278d8ef-ed1e-436c-90c9-bd311e3ffaee"
      },
      "source": [
        "# XGBOOST\n",
        "from sklearn.metrics import f1_score\n",
        "f1_score(y_test,y_pred)"
      ],
      "execution_count": 61,
      "outputs": [
        {
          "output_type": "execute_result",
          "data": {
            "text/plain": [
              "0.4943820224719101"
            ]
          },
          "metadata": {
            "tags": []
          },
          "execution_count": 61
        }
      ]
    },
    {
      "cell_type": "code",
      "metadata": {
        "id": "192xBSNw5U2-"
      },
      "source": [
        "# Ensembled model \n",
        "a=h2o.get_model('StackedEnsemble_BestOfFamily_AutoML_20210319_095526')"
      ],
      "execution_count": 62,
      "outputs": []
    },
    {
      "cell_type": "code",
      "metadata": {
        "colab": {
          "base_uri": "https://localhost:8080/"
        },
        "id": "avD1KQA0OFv1",
        "outputId": "06eba3bc-0c07-4378-810d-ae9c656ee7af"
      },
      "source": [
        "pr=a.predict(test)"
      ],
      "execution_count": 72,
      "outputs": [
        {
          "output_type": "stream",
          "text": [
            "stackedensemble prediction progress: |████████████████████████████████████| 100%\n"
          ],
          "name": "stdout"
        }
      ]
    },
    {
      "cell_type": "code",
      "metadata": {
        "id": "hX3H8vryOMDy"
      },
      "source": [
        "data_as_df = pr.as_data_frame()"
      ],
      "execution_count": 73,
      "outputs": []
    },
    {
      "cell_type": "code",
      "metadata": {
        "id": "ykf65GNYOPiu"
      },
      "source": [
        "y_pred=data_as_df.predict\n",
        "y_test=pd.read_csv('test.csv').Attrition"
      ],
      "execution_count": 74,
      "outputs": []
    },
    {
      "cell_type": "code",
      "metadata": {
        "colab": {
          "base_uri": "https://localhost:8080/"
        },
        "id": "JcUTT45aOTBJ",
        "outputId": "5d82cc18-551b-42b7-e534-c9a0c472c348"
      },
      "source": [
        "from sklearn.metrics import f1_score\n",
        "f1_score(y_test,y_pred)"
      ],
      "execution_count": 75,
      "outputs": [
        {
          "output_type": "execute_result",
          "data": {
            "text/plain": [
              "0.6021505376344085"
            ]
          },
          "metadata": {
            "tags": []
          },
          "execution_count": 75
        }
      ]
    },
    {
      "cell_type": "code",
      "metadata": {
        "id": "xlh23WYBPsip"
      },
      "source": [
        ""
      ],
      "execution_count": null,
      "outputs": []
    }
  ]
}